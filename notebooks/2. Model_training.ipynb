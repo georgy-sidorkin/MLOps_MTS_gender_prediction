{
 "cells": [
  {
   "cell_type": "markdown",
   "id": "65d9c1e8",
   "metadata": {},
   "source": [
    "# Импорт библиотек"
   ]
  },
  {
   "cell_type": "code",
   "execution_count": 142,
   "id": "9aa28931",
   "metadata": {},
   "outputs": [],
   "source": [
    "import yaml\n",
    "import joblib\n",
    "\n",
    "import pandas as pd\n",
    "import numpy as np\n",
    "\n",
    "from sklearn.metrics import roc_auc_score, recall_score, precision_score, f1_score\n",
    "from sklearn.model_selection import train_test_split, StratifiedKFold\n",
    "from sklearn.ensemble import RandomForestClassifier\n",
    "\n",
    "from lightgbm import LGBMClassifier\n",
    "from catboost import CatBoostClassifier\n",
    "from xgboost import XGBClassifier\n",
    "\n",
    "import optuna\n",
    "\n",
    "import warnings\n",
    "warnings.filterwarnings('ignore');"
   ]
  },
  {
   "cell_type": "markdown",
   "id": "ea62fb0a",
   "metadata": {},
   "source": [
    "# Описание задачи"
   ]
  },
  {
   "cell_type": "markdown",
   "id": "2d245c40",
   "metadata": {},
   "source": [
    "В данном jupyter-ноутбуке мы обучим бейзлан модели для определения пола пользователя. А затем подберем лучшие параметры для лучшей модели"
   ]
  },
  {
   "cell_type": "markdown",
   "id": "525335f7",
   "metadata": {},
   "source": [
    "https://ods.ai/competitions/mtsmlcup\n",
    "\n",
    "Задача соревнования\n",
    "- Определение пола и возраста владельца HTTP cookie по истории активности пользователя в интернете на основе синтетических данных.\n",
    "\n",
    "Метрики соревнования:\n",
    "* ROC-AUC – для определения пола\n",
    "\n",
    "Предобработка, аггрегация и создание новых фич произведена в 0.Data_preparing.ipng.\n",
    "Описание колонок аггрегированного файла с данными:\n",
    "* 'part_of_day_day' – кол-во визитов пользователя днем\n",
    "* 'part_of_day_evening' – кол-во визитов пользователя вечером\n",
    "* 'part_of_day_morning' – кол-во визитов пользователя утром\n",
    "* 'part_of_day_night' – кол-во визитов пользователя ночью\n",
    "* 'sum_visits' – кол-во визитов пользователя\n",
    "* 'day_pct' – доля визитов пользователя днем\n",
    "* 'evening_pct' – доля визитов пользователя вечером\n",
    "* 'morning_pct' – доля визитов пользователя утром\n",
    "* 'night_pct' – доля визитов пользователя ночью\n",
    "* 'act_days' – кол-во дней, в которые пользователь совершил визит пользователя\n",
    "* 'request_cnt' - кол-во запросов пользователя\n",
    "* 'avg_req_per_day' - среднее кол-во запросов пользователя\n",
    "* 'period_days' - кол-во дней между первым и последним визитом пользователя\n",
    "* 'act_days_pct' - доля дней, когда пользователь совершал визит\n",
    "* 'cpe_type_cd - тип устройства\n",
    "* 'cpe_model_os_type' - операционная система устройства\n",
    "* 'cpe_manufacturer_name' -производитель устройства\n",
    "* 'price' - цена устройства пользователя\n",
    "* 'region_cnt' - кол-во уникальных регионов, из которых был совершен визит\n",
    "* 'city_cnt' - кол-во уникальных городов, из которых был совершен визит\n",
    "* 'url_host_cnt' - кол-во уникальных ссылок, с которых был совершен визит\n",
    "* 'user_id' – ID пользователя\n",
    "\n",
    "Описание колонок файла с таргетами:\n",
    "\n",
    "* 'age' – Возраст пользователя\n",
    "* 'is_male' – Признак пользователя : мужчина (1-Да, 0-Нет)\n",
    "* 'user_id' – ID пользователя"
   ]
  },
  {
   "cell_type": "markdown",
   "id": "26edb388",
   "metadata": {},
   "source": [
    "# Загрузка данных"
   ]
  },
  {
   "cell_type": "code",
   "execution_count": 167,
   "id": "f3495584",
   "metadata": {},
   "outputs": [],
   "source": [
    "# загрузим конфигурационный файл\n",
    "config_path = '../config/parameters.yaml'\n",
    "config = yaml.load(open(config_path), Loader=yaml.FullLoader)"
   ]
  },
  {
   "cell_type": "code",
   "execution_count": 170,
   "id": "b0529278",
   "metadata": {
    "collapsed": true
   },
   "outputs": [
    {
     "data": {
      "text/plain": [
       "{'raw_data_extension': '.parquet',\n",
       " 'change_col_types': {'region_name': 'category',\n",
       "  'city_name': 'category',\n",
       "  'cpe_manufacturer_name': 'category',\n",
       "  'cpe_model_name': 'category',\n",
       "  'url_host': 'category',\n",
       "  'cpe_type_cd': 'category',\n",
       "  'cpe_model_os_type': 'category',\n",
       "  'date': 'datetime64[ns]',\n",
       "  'price': 'float32',\n",
       "  'part_of_day': 'category',\n",
       "  'request_cnt': 'int8',\n",
       "  'user_id': 'int32'},\n",
       " 'agg_columns_type': {'user_id': 'int32',\n",
       "  'part_of_day_day': 'int16,',\n",
       "  'part_of_day_evening': 'int16',\n",
       "  'part_of_day_morning': 'int16',\n",
       "  'part_of_day_night': 'int16',\n",
       "  'sum_visits': 'int16',\n",
       "  'day_pct': 'float32',\n",
       "  'evening_pct': 'float32',\n",
       "  'morning_pct': 'float32',\n",
       "  'night_pct': 'float32',\n",
       "  'act_days': 'int16',\n",
       "  'request_cnt': 'int32',\n",
       "  'avg_req_per_day': 'float32',\n",
       "  'period_days': 'int16',\n",
       "  'act_days_pct': 'float32',\n",
       "  'cpe_type_cd': 'category',\n",
       "  'cpe_model_os_type': 'category',\n",
       "  'cpe_manufacturer_name': 'category',\n",
       "  'price': 'float32',\n",
       "  'region_cnt': 'int8',\n",
       "  'city_cnt': 'int8',\n",
       "  'url_host_cnt': 'int16'},\n",
       " 'columns_fill_na': {'price': -999},\n",
       " 'replace_values': {'cpe_model_os_type': {'Apple iOS': 'iOS'},\n",
       "  'cpe_manufacturer_name': {'Huawei Device Company Limited': 'Huawei',\n",
       "   'Motorola Mobility LLC, a Lenovo Company': 'Motorola',\n",
       "   'Sony Mobile Communications Inc.': 'Sony',\n",
       "   'Highscreen Limited': 'Highscreen',\n",
       "   'Realme Chongqing Mobile Telecommunications Corp Ltd': 'Realme',\n",
       "   'Realme Mobile Telecommunications (Shenzhen) Co Ltd': 'Realme'}},\n",
       " 'columns_save_min_max': ['region_cnt',\n",
       "  'city_cnt',\n",
       "  'url_host_cnt',\n",
       "  'part_of_day_morning',\n",
       "  'part_of_day_day',\n",
       "  'part_of_day_evening',\n",
       "  'part_of_day_night',\n",
       "  'act_days',\n",
       "  'request_cnt',\n",
       "  'period_days',\n",
       "  'price'],\n",
       " 'columns_save_unique': ['cpe_type_cd',\n",
       "  'cpe_manufacturer_name',\n",
       "  'cpe_model_os_type'],\n",
       " 'raw_data_path': '../data/raw/',\n",
       " 'agg_data_path': '../data/processed/agg_data.csv',\n",
       " 'unique_values_path': '../data/processed/unique_values.json',\n",
       " 'submit_path': '../data/raw/submit.pqt'}"
      ]
     },
     "execution_count": 170,
     "metadata": {},
     "output_type": "execute_result"
    }
   ],
   "source": [
    "config_prep = config['preprocessing']\n",
    "config_prep"
   ]
  },
  {
   "cell_type": "code",
   "execution_count": 168,
   "id": "4e74b825",
   "metadata": {},
   "outputs": [
    {
     "data": {
      "text/plain": [
       "{'target': 'is_male',\n",
       " 'train_test_size': 0.2,\n",
       " 'train_val_size': 0.16,\n",
       " 'random_state': 10,\n",
       " 'k_folds': 5,\n",
       " 'n_trials': 10,\n",
       " 'columns_to_drop': 'user_id',\n",
       " 'target_type': {'is_male': 'int8'},\n",
       " 'target_data_path': '../data/raw/public_train.pqt',\n",
       " 'train_data_path': '../data/processed/train_data.csv',\n",
       " 'model_path': '../models/model_clf.joblib',\n",
       " 'study_path': '../models/study.joblib',\n",
       " 'metrics_path': '../report/metrics.json',\n",
       " 'train_split_path': '../data/processed/train.csv',\n",
       " 'test_split_path': '../data/processed/test.csv'}"
      ]
     },
     "execution_count": 168,
     "metadata": {},
     "output_type": "execute_result"
    }
   ],
   "source": [
    "config_train = config['train']\n",
    "config_train"
   ]
  },
  {
   "cell_type": "code",
   "execution_count": 8,
   "id": "f3d6418a",
   "metadata": {},
   "outputs": [],
   "source": [
    "# путь до датасета для обучения модели\n",
    "train_data_path = config_train['train_data_path']"
   ]
  },
  {
   "cell_type": "code",
   "execution_count": 9,
   "id": "d58fb48f",
   "metadata": {},
   "outputs": [
    {
     "data": {
      "text/html": [
       "<div>\n",
       "<style scoped>\n",
       "    .dataframe tbody tr th:only-of-type {\n",
       "        vertical-align: middle;\n",
       "    }\n",
       "\n",
       "    .dataframe tbody tr th {\n",
       "        vertical-align: top;\n",
       "    }\n",
       "\n",
       "    .dataframe thead th {\n",
       "        text-align: right;\n",
       "    }\n",
       "</style>\n",
       "<table border=\"1\" class=\"dataframe\">\n",
       "  <thead>\n",
       "    <tr style=\"text-align: right;\">\n",
       "      <th></th>\n",
       "      <th>user_id</th>\n",
       "      <th>part_of_day_day</th>\n",
       "      <th>part_of_day_evening</th>\n",
       "      <th>part_of_day_morning</th>\n",
       "      <th>part_of_day_night</th>\n",
       "      <th>sum_visits</th>\n",
       "      <th>day_pct</th>\n",
       "      <th>evening_pct</th>\n",
       "      <th>morning_pct</th>\n",
       "      <th>night_pct</th>\n",
       "      <th>...</th>\n",
       "      <th>period_days</th>\n",
       "      <th>act_days_pct</th>\n",
       "      <th>cpe_type_cd</th>\n",
       "      <th>cpe_manufacturer_name</th>\n",
       "      <th>cpe_model_os_type</th>\n",
       "      <th>price</th>\n",
       "      <th>region_cnt</th>\n",
       "      <th>city_cnt</th>\n",
       "      <th>url_host_cnt</th>\n",
       "      <th>is_male</th>\n",
       "    </tr>\n",
       "  </thead>\n",
       "  <tbody>\n",
       "    <tr>\n",
       "      <th>0</th>\n",
       "      <td>69</td>\n",
       "      <td>457</td>\n",
       "      <td>346</td>\n",
       "      <td>314</td>\n",
       "      <td>30</td>\n",
       "      <td>1147</td>\n",
       "      <td>0.398431</td>\n",
       "      <td>0.301656</td>\n",
       "      <td>0.273758</td>\n",
       "      <td>0.026155</td>\n",
       "      <td>...</td>\n",
       "      <td>60</td>\n",
       "      <td>0.933333</td>\n",
       "      <td>smartphone</td>\n",
       "      <td>Apple</td>\n",
       "      <td>iOS</td>\n",
       "      <td>16657.000</td>\n",
       "      <td>1</td>\n",
       "      <td>1</td>\n",
       "      <td>91</td>\n",
       "      <td>0</td>\n",
       "    </tr>\n",
       "    <tr>\n",
       "      <th>1</th>\n",
       "      <td>85</td>\n",
       "      <td>838</td>\n",
       "      <td>1067</td>\n",
       "      <td>602</td>\n",
       "      <td>333</td>\n",
       "      <td>2840</td>\n",
       "      <td>0.295070</td>\n",
       "      <td>0.375704</td>\n",
       "      <td>0.211972</td>\n",
       "      <td>0.117254</td>\n",
       "      <td>...</td>\n",
       "      <td>41</td>\n",
       "      <td>0.926829</td>\n",
       "      <td>smartphone</td>\n",
       "      <td>Apple</td>\n",
       "      <td>iOS</td>\n",
       "      <td>55809.004</td>\n",
       "      <td>2</td>\n",
       "      <td>6</td>\n",
       "      <td>174</td>\n",
       "      <td>0</td>\n",
       "    </tr>\n",
       "    <tr>\n",
       "      <th>2</th>\n",
       "      <td>106</td>\n",
       "      <td>165</td>\n",
       "      <td>221</td>\n",
       "      <td>168</td>\n",
       "      <td>142</td>\n",
       "      <td>696</td>\n",
       "      <td>0.237069</td>\n",
       "      <td>0.317529</td>\n",
       "      <td>0.241379</td>\n",
       "      <td>0.204023</td>\n",
       "      <td>...</td>\n",
       "      <td>63</td>\n",
       "      <td>0.952381</td>\n",
       "      <td>smartphone</td>\n",
       "      <td>Samsung</td>\n",
       "      <td>Android</td>\n",
       "      <td>8111.000</td>\n",
       "      <td>1</td>\n",
       "      <td>2</td>\n",
       "      <td>91</td>\n",
       "      <td>0</td>\n",
       "    </tr>\n",
       "  </tbody>\n",
       "</table>\n",
       "<p>3 rows × 23 columns</p>\n",
       "</div>"
      ],
      "text/plain": [
       "   user_id  part_of_day_day  part_of_day_evening  part_of_day_morning   \n",
       "0       69              457                  346                  314  \\\n",
       "1       85              838                 1067                  602   \n",
       "2      106              165                  221                  168   \n",
       "\n",
       "   part_of_day_night  sum_visits   day_pct  evening_pct  morning_pct   \n",
       "0                 30        1147  0.398431     0.301656     0.273758  \\\n",
       "1                333        2840  0.295070     0.375704     0.211972   \n",
       "2                142         696  0.237069     0.317529     0.241379   \n",
       "\n",
       "   night_pct  ...  period_days  act_days_pct  cpe_type_cd   \n",
       "0   0.026155  ...           60      0.933333   smartphone  \\\n",
       "1   0.117254  ...           41      0.926829   smartphone   \n",
       "2   0.204023  ...           63      0.952381   smartphone   \n",
       "\n",
       "   cpe_manufacturer_name  cpe_model_os_type      price region_cnt city_cnt   \n",
       "0                  Apple                iOS  16657.000          1        1  \\\n",
       "1                  Apple                iOS  55809.004          2        6   \n",
       "2                Samsung            Android   8111.000          1        2   \n",
       "\n",
       "   url_host_cnt  is_male  \n",
       "0            91        0  \n",
       "1           174        0  \n",
       "2            91        0  \n",
       "\n",
       "[3 rows x 23 columns]"
      ]
     },
     "execution_count": 9,
     "metadata": {},
     "output_type": "execute_result"
    }
   ],
   "source": [
    "train_data = pd.read_csv(train_data_path)\n",
    "train_data.head(3)"
   ]
  },
  {
   "cell_type": "code",
   "execution_count": 14,
   "id": "12ea06ee",
   "metadata": {},
   "outputs": [],
   "source": [
    "# типы данных для экономии памяти\n",
    "data_types = config_prep['agg_columns_type']"
   ]
  },
  {
   "cell_type": "code",
   "execution_count": 15,
   "id": "731de5c8",
   "metadata": {},
   "outputs": [],
   "source": [
    "# преобразуем типы колонок\n",
    "train_data = train_data.astype(data_types)"
   ]
  },
  {
   "cell_type": "code",
   "execution_count": 16,
   "id": "8d20cdc2",
   "metadata": {},
   "outputs": [
    {
     "name": "stdout",
     "output_type": "stream",
     "text": [
      "<class 'pandas.core.frame.DataFrame'>\n",
      "RangeIndex: 264325 entries, 0 to 264324\n",
      "Data columns (total 23 columns):\n",
      " #   Column                 Non-Null Count   Dtype   \n",
      "---  ------                 --------------   -----   \n",
      " 0   user_id                264325 non-null  int32   \n",
      " 1   part_of_day_day        264325 non-null  int16   \n",
      " 2   part_of_day_evening    264325 non-null  int16   \n",
      " 3   part_of_day_morning    264325 non-null  int16   \n",
      " 4   part_of_day_night      264325 non-null  int16   \n",
      " 5   sum_visits             264325 non-null  int16   \n",
      " 6   day_pct                264325 non-null  float32 \n",
      " 7   evening_pct            264325 non-null  float32 \n",
      " 8   morning_pct            264325 non-null  float32 \n",
      " 9   night_pct              264325 non-null  float32 \n",
      " 10  act_days               264325 non-null  int16   \n",
      " 11  request_cnt            264325 non-null  int32   \n",
      " 12  avg_req_per_day        264325 non-null  float32 \n",
      " 13  period_days            264325 non-null  int16   \n",
      " 14  act_days_pct           264325 non-null  float32 \n",
      " 15  cpe_type_cd            264325 non-null  category\n",
      " 16  cpe_manufacturer_name  264325 non-null  category\n",
      " 17  cpe_model_os_type      264325 non-null  category\n",
      " 18  price                  264325 non-null  float32 \n",
      " 19  region_cnt             264325 non-null  int8    \n",
      " 20  city_cnt               264325 non-null  int8    \n",
      " 21  url_host_cnt           264325 non-null  int16   \n",
      " 22  is_male                264325 non-null  int8    \n",
      "dtypes: category(3), float32(7), int16(8), int32(2), int8(3)\n",
      "memory usage: 14.6 MB\n"
     ]
    }
   ],
   "source": [
    "train_data.info()"
   ]
  },
  {
   "cell_type": "markdown",
   "id": "322042ad",
   "metadata": {},
   "source": [
    "# Baseline model"
   ]
  },
  {
   "cell_type": "code",
   "execution_count": 17,
   "id": "21544090",
   "metadata": {},
   "outputs": [],
   "source": [
    "def get_metrics_classification(y_test, y_pred, y_score, name) -> pd.DataFrame:\n",
    "    \"\"\"\n",
    "    Генерация таблицы с метриками для задачи бинарной классификации\n",
    "    :param y_test: истинные значения целевой переменной\n",
    "    :param y_pred: предсказанный класс\n",
    "    :param y_score: предсказанные вероятности классов\n",
    "    :param name: имя модели\n",
    "    :return: датафрейм с метриками\n",
    "    \"\"\"\n",
    "    df_metrics = pd.DataFrame()\n",
    "\n",
    "    df_metrics['model'] = [name]\n",
    "    df_metrics['Precision'] = precision_score(y_test, y_pred)\n",
    "    df_metrics['Recall'] = recall_score(y_test, y_pred)\n",
    "    df_metrics['f1'] = f1_score(y_test, y_pred)\n",
    "    df_metrics['ROC_AUC'] = roc_auc_score(y_test, y_score[:, 1])\n",
    "\n",
    "    return df_metrics\n",
    "\n",
    "\n",
    "def check_overfitting_classification(model, X_train, y_train, X_test, y_test) -> None:\n",
    "    \"\"\"\n",
    "    Проверка на overfitting для бинарной классификации\n",
    "    :param model: обученная модель\n",
    "    :param X_train: матрица объект-признак train\n",
    "    :param y_train: целевая переменная train\n",
    "    :param X_test: матрица объект-признак test\n",
    "    :param y_test: целевая переменная test\n",
    "    :return: None\n",
    "    \"\"\"\n",
    "    roc_auc_train = roc_auc_score(y_train, model.predict_proba(X_train)[:, 1])\n",
    "    roc_auc_test = roc_auc_score(y_test, model.predict_proba(X_test)[:, 1])\n",
    "\n",
    "    print(\"ROC-AUC train = %.3f\" % roc_auc_train)\n",
    "    print(\"ROC-AUC test = %.3f\" % roc_auc_test)\n",
    "    print(\n",
    "        f'delta = {round((roc_auc_train - roc_auc_test) / roc_auc_test * 100, 2)}%'\n",
    "    )"
   ]
  },
  {
   "cell_type": "markdown",
   "id": "4c6cdcf8",
   "metadata": {},
   "source": [
    "## Train/test split"
   ]
  },
  {
   "cell_type": "code",
   "execution_count": 80,
   "id": "5cd3e10e",
   "metadata": {},
   "outputs": [],
   "source": [
    "# таргет\n",
    "target_col = config_train['target']\n",
    "# размер тестовой выборки\n",
    "test_size = config_train['train_test_size']\n",
    "# размер валидационной выборки\n",
    "val_size = config_train['train_val_size']\n",
    "# колонки, которые нужно дропнуть\n",
    "col_to_drop = config_train['columns_to_drop']\n",
    "RAND = config_train['random_state']"
   ]
  },
  {
   "cell_type": "code",
   "execution_count": 81,
   "id": "eb4eec02",
   "metadata": {},
   "outputs": [],
   "source": [
    "# сплит данных на train/validation/test\n",
    "X = train_data.drop([col_to_drop, target_col], axis=1)\n",
    "y = train_data[target_col]\n",
    "\n",
    "X_train, X_test, y_train, y_test = train_test_split(X,\n",
    "                                                    y,\n",
    "                                                    test_size=test_size,\n",
    "                                                    shuffle=True,\n",
    "                                                    stratify=y,\n",
    "                                                    random_state=RAND)\n",
    "\n",
    "X_train_, X_val, y_train_, y_val = train_test_split(X_train,\n",
    "                                                    y_train,\n",
    "                                                    test_size=val_size,\n",
    "                                                    shuffle=True,\n",
    "                                                    stratify=y_train,\n",
    "                                                    random_state=RAND)\n",
    "\n",
    "# значение для scale_pos_weight\n",
    "ratio = float(np.sum(y == 0)) / np.sum(y == 1)"
   ]
  },
  {
   "cell_type": "markdown",
   "id": "9f197cda",
   "metadata": {},
   "source": [
    "## LGBM"
   ]
  },
  {
   "cell_type": "code",
   "execution_count": 82,
   "id": "6d04152a",
   "metadata": {},
   "outputs": [
    {
     "data": {
      "text/html": [
       "<style>#sk-container-id-7 {color: black;background-color: white;}#sk-container-id-7 pre{padding: 0;}#sk-container-id-7 div.sk-toggleable {background-color: white;}#sk-container-id-7 label.sk-toggleable__label {cursor: pointer;display: block;width: 100%;margin-bottom: 0;padding: 0.3em;box-sizing: border-box;text-align: center;}#sk-container-id-7 label.sk-toggleable__label-arrow:before {content: \"▸\";float: left;margin-right: 0.25em;color: #696969;}#sk-container-id-7 label.sk-toggleable__label-arrow:hover:before {color: black;}#sk-container-id-7 div.sk-estimator:hover label.sk-toggleable__label-arrow:before {color: black;}#sk-container-id-7 div.sk-toggleable__content {max-height: 0;max-width: 0;overflow: hidden;text-align: left;background-color: #f0f8ff;}#sk-container-id-7 div.sk-toggleable__content pre {margin: 0.2em;color: black;border-radius: 0.25em;background-color: #f0f8ff;}#sk-container-id-7 input.sk-toggleable__control:checked~div.sk-toggleable__content {max-height: 200px;max-width: 100%;overflow: auto;}#sk-container-id-7 input.sk-toggleable__control:checked~label.sk-toggleable__label-arrow:before {content: \"▾\";}#sk-container-id-7 div.sk-estimator input.sk-toggleable__control:checked~label.sk-toggleable__label {background-color: #d4ebff;}#sk-container-id-7 div.sk-label input.sk-toggleable__control:checked~label.sk-toggleable__label {background-color: #d4ebff;}#sk-container-id-7 input.sk-hidden--visually {border: 0;clip: rect(1px 1px 1px 1px);clip: rect(1px, 1px, 1px, 1px);height: 1px;margin: -1px;overflow: hidden;padding: 0;position: absolute;width: 1px;}#sk-container-id-7 div.sk-estimator {font-family: monospace;background-color: #f0f8ff;border: 1px dotted black;border-radius: 0.25em;box-sizing: border-box;margin-bottom: 0.5em;}#sk-container-id-7 div.sk-estimator:hover {background-color: #d4ebff;}#sk-container-id-7 div.sk-parallel-item::after {content: \"\";width: 100%;border-bottom: 1px solid gray;flex-grow: 1;}#sk-container-id-7 div.sk-label:hover label.sk-toggleable__label {background-color: #d4ebff;}#sk-container-id-7 div.sk-serial::before {content: \"\";position: absolute;border-left: 1px solid gray;box-sizing: border-box;top: 0;bottom: 0;left: 50%;z-index: 0;}#sk-container-id-7 div.sk-serial {display: flex;flex-direction: column;align-items: center;background-color: white;padding-right: 0.2em;padding-left: 0.2em;position: relative;}#sk-container-id-7 div.sk-item {position: relative;z-index: 1;}#sk-container-id-7 div.sk-parallel {display: flex;align-items: stretch;justify-content: center;background-color: white;position: relative;}#sk-container-id-7 div.sk-item::before, #sk-container-id-7 div.sk-parallel-item::before {content: \"\";position: absolute;border-left: 1px solid gray;box-sizing: border-box;top: 0;bottom: 0;left: 50%;z-index: -1;}#sk-container-id-7 div.sk-parallel-item {display: flex;flex-direction: column;z-index: 1;position: relative;background-color: white;}#sk-container-id-7 div.sk-parallel-item:first-child::after {align-self: flex-end;width: 50%;}#sk-container-id-7 div.sk-parallel-item:last-child::after {align-self: flex-start;width: 50%;}#sk-container-id-7 div.sk-parallel-item:only-child::after {width: 0;}#sk-container-id-7 div.sk-dashed-wrapped {border: 1px dashed gray;margin: 0 0.4em 0.5em 0.4em;box-sizing: border-box;padding-bottom: 0.4em;background-color: white;}#sk-container-id-7 div.sk-label label {font-family: monospace;font-weight: bold;display: inline-block;line-height: 1.2em;}#sk-container-id-7 div.sk-label-container {text-align: center;}#sk-container-id-7 div.sk-container {/* jupyter's `normalize.less` sets `[hidden] { display: none; }` but bootstrap.min.css set `[hidden] { display: none !important; }` so we also need the `!important` here to be able to override the default hidden behavior on the sphinx rendered scikit-learn.org. See: https://github.com/scikit-learn/scikit-learn/issues/21755 */display: inline-block !important;position: relative;}#sk-container-id-7 div.sk-text-repr-fallback {display: none;}</style><div id=\"sk-container-id-7\" class=\"sk-top-container\"><div class=\"sk-text-repr-fallback\"><pre>LGBMClassifier(class_weight=&#x27;balanced&#x27;, random_state=10,\n",
       "               scale_pos_weight=0.9531740695036613)</pre><b>In a Jupyter environment, please rerun this cell to show the HTML representation or trust the notebook. <br />On GitHub, the HTML representation is unable to render, please try loading this page with nbviewer.org.</b></div><div class=\"sk-container\" hidden><div class=\"sk-item\"><div class=\"sk-estimator sk-toggleable\"><input class=\"sk-toggleable__control sk-hidden--visually\" id=\"sk-estimator-id-7\" type=\"checkbox\" checked><label for=\"sk-estimator-id-7\" class=\"sk-toggleable__label sk-toggleable__label-arrow\">LGBMClassifier</label><div class=\"sk-toggleable__content\"><pre>LGBMClassifier(class_weight=&#x27;balanced&#x27;, random_state=10,\n",
       "               scale_pos_weight=0.9531740695036613)</pre></div></div></div></div></div>"
      ],
      "text/plain": [
       "LGBMClassifier(class_weight='balanced', random_state=10,\n",
       "               scale_pos_weight=0.9531740695036613)"
      ]
     },
     "execution_count": 82,
     "metadata": {},
     "output_type": "execute_result"
    }
   ],
   "source": [
    "# обучаем бейзлайн LGBM\n",
    "lgbm_clf = LGBMClassifier(class_weight='balanced',\n",
    "                          random_state=RAND,\n",
    "                          scale_pos_weight=ratio)\n",
    "eval_set = [(X_val, y_val)]\n",
    "\n",
    "lgbm_clf.fit(X_train_,\n",
    "             y_train_,\n",
    "             eval_set=eval_set,\n",
    "             early_stopping_rounds=100,\n",
    "             verbose=False)"
   ]
  },
  {
   "cell_type": "code",
   "execution_count": 83,
   "id": "07fc2b02",
   "metadata": {
    "scrolled": true
   },
   "outputs": [
    {
     "name": "stdout",
     "output_type": "stream",
     "text": [
      "ROC-AUC train = 0.651\n",
      "ROC-AUC test = 0.627\n",
      "delta = 3.83%\n"
     ]
    }
   ],
   "source": [
    "# проверка на переобучение\n",
    "check_overfitting_classification(lgbm_clf, X_train, y_train, X_test, y_test)"
   ]
  },
  {
   "cell_type": "code",
   "execution_count": 84,
   "id": "a9f2ffcc",
   "metadata": {},
   "outputs": [
    {
     "data": {
      "text/html": [
       "<div>\n",
       "<style scoped>\n",
       "    .dataframe tbody tr th:only-of-type {\n",
       "        vertical-align: middle;\n",
       "    }\n",
       "\n",
       "    .dataframe tbody tr th {\n",
       "        vertical-align: top;\n",
       "    }\n",
       "\n",
       "    .dataframe thead th {\n",
       "        text-align: right;\n",
       "    }\n",
       "</style>\n",
       "<table border=\"1\" class=\"dataframe\">\n",
       "  <thead>\n",
       "    <tr style=\"text-align: right;\">\n",
       "      <th></th>\n",
       "      <th>model</th>\n",
       "      <th>Precision</th>\n",
       "      <th>Recall</th>\n",
       "      <th>f1</th>\n",
       "      <th>ROC_AUC</th>\n",
       "    </tr>\n",
       "  </thead>\n",
       "  <tbody>\n",
       "    <tr>\n",
       "      <th>0</th>\n",
       "      <td>LightGBM_Baseline</td>\n",
       "      <td>0.616125</td>\n",
       "      <td>0.51585</td>\n",
       "      <td>0.561546</td>\n",
       "      <td>0.626908</td>\n",
       "    </tr>\n",
       "  </tbody>\n",
       "</table>\n",
       "</div>"
      ],
      "text/plain": [
       "               model  Precision   Recall        f1   ROC_AUC\n",
       "0  LightGBM_Baseline   0.616125  0.51585  0.561546  0.626908"
      ]
     },
     "execution_count": 84,
     "metadata": {},
     "output_type": "execute_result"
    }
   ],
   "source": [
    "# получим итоговую оценку\n",
    "y_pred = lgbm_clf.predict(X_test)\n",
    "y_score = lgbm_clf.predict_proba(X_test)\n",
    "\n",
    "metrics = get_metrics_classification(y_test,\n",
    "                           y_pred,\n",
    "                           y_score,\n",
    "                           name='LightGBM_Baseline')\n",
    "metrics"
   ]
  },
  {
   "cell_type": "markdown",
   "id": "01136b26",
   "metadata": {},
   "source": [
    "## Catboost"
   ]
  },
  {
   "cell_type": "code",
   "execution_count": 85,
   "id": "4b6fcdb5",
   "metadata": {},
   "outputs": [
    {
     "data": {
      "text/plain": [
       "<catboost.core.CatBoostClassifier at 0x176383340>"
      ]
     },
     "execution_count": 85,
     "metadata": {},
     "output_type": "execute_result"
    }
   ],
   "source": [
    "# обучаем бейзлайн Catboost\n",
    "cat_features = X.select_dtypes('category').columns.tolist()\n",
    "cb_clf = CatBoostClassifier(allow_writing_files=False,\n",
    "                            random_state=RAND,\n",
    "                            cat_features=cat_features,\n",
    "                            scale_pos_weight=ratio,\n",
    "                            verbose=False)\n",
    "\n",
    "cb_clf.fit(X_train, y_train)"
   ]
  },
  {
   "cell_type": "code",
   "execution_count": 86,
   "id": "c7b7a28b",
   "metadata": {},
   "outputs": [
    {
     "name": "stdout",
     "output_type": "stream",
     "text": [
      "ROC-AUC train = 0.691\n",
      "ROC-AUC test = 0.629\n",
      "delta = 9.95%\n"
     ]
    }
   ],
   "source": [
    "# проверка на переобучение\n",
    "check_overfitting_classification(cb_clf, X_train, y_train, X_test, y_test)"
   ]
  },
  {
   "cell_type": "code",
   "execution_count": 87,
   "id": "0dbe2328",
   "metadata": {},
   "outputs": [
    {
     "data": {
      "text/html": [
       "<div>\n",
       "<style scoped>\n",
       "    .dataframe tbody tr th:only-of-type {\n",
       "        vertical-align: middle;\n",
       "    }\n",
       "\n",
       "    .dataframe tbody tr th {\n",
       "        vertical-align: top;\n",
       "    }\n",
       "\n",
       "    .dataframe thead th {\n",
       "        text-align: right;\n",
       "    }\n",
       "</style>\n",
       "<table border=\"1\" class=\"dataframe\">\n",
       "  <thead>\n",
       "    <tr style=\"text-align: right;\">\n",
       "      <th></th>\n",
       "      <th>model</th>\n",
       "      <th>Precision</th>\n",
       "      <th>Recall</th>\n",
       "      <th>f1</th>\n",
       "      <th>ROC_AUC</th>\n",
       "    </tr>\n",
       "  </thead>\n",
       "  <tbody>\n",
       "    <tr>\n",
       "      <th>0</th>\n",
       "      <td>LightGBM_Baseline</td>\n",
       "      <td>0.616125</td>\n",
       "      <td>0.515850</td>\n",
       "      <td>0.561546</td>\n",
       "      <td>0.626908</td>\n",
       "    </tr>\n",
       "    <tr>\n",
       "      <th>0</th>\n",
       "      <td>CatBoost_Baseline</td>\n",
       "      <td>0.609918</td>\n",
       "      <td>0.558043</td>\n",
       "      <td>0.582828</td>\n",
       "      <td>0.628648</td>\n",
       "    </tr>\n",
       "  </tbody>\n",
       "</table>\n",
       "</div>"
      ],
      "text/plain": [
       "               model  Precision    Recall        f1   ROC_AUC\n",
       "0  LightGBM_Baseline   0.616125  0.515850  0.561546  0.626908\n",
       "0  CatBoost_Baseline   0.609918  0.558043  0.582828  0.628648"
      ]
     },
     "execution_count": 87,
     "metadata": {},
     "output_type": "execute_result"
    }
   ],
   "source": [
    "# получим итоговую оценку\n",
    "y_pred = cb_clf.predict(X_test)\n",
    "y_score = cb_clf.predict_proba(X_test)\n",
    "\n",
    "metrics = pd.concat([\n",
    "    metrics,\n",
    "    get_metrics_classification(y_test,\n",
    "                               y_pred,\n",
    "                               y_score,\n",
    "                               name='CatBoost_Baseline')\n",
    "])\n",
    "metrics"
   ]
  },
  {
   "cell_type": "markdown",
   "id": "bdd93b67",
   "metadata": {},
   "source": [
    "## XGBoost"
   ]
  },
  {
   "cell_type": "code",
   "execution_count": 88,
   "id": "377d1f90",
   "metadata": {},
   "outputs": [],
   "source": [
    "# сплит данных на train/validation/test с one hot encoding\n",
    "X = pd.get_dummies(train_data.drop([col_to_drop, target_col], axis=1))\n",
    "y = train_data[target_col]\n",
    "\n",
    "X_train, X_test, y_train, y_test = train_test_split(X,\n",
    "                                                    y,\n",
    "                                                    test_size=test_size,\n",
    "                                                    shuffle=True,\n",
    "                                                    stratify=y,\n",
    "                                                    random_state=RAND)\n",
    "\n",
    "X_train_, X_val, y_train_, y_val = train_test_split(X_train,\n",
    "                                                    y_train,\n",
    "                                                    test_size=val_size,\n",
    "                                                    shuffle=True,\n",
    "                                                    stratify=y_train,\n",
    "                                                    random_state=RAND)"
   ]
  },
  {
   "cell_type": "code",
   "execution_count": 89,
   "id": "3060a07b",
   "metadata": {},
   "outputs": [
    {
     "data": {
      "text/html": [
       "<style>#sk-container-id-8 {color: black;background-color: white;}#sk-container-id-8 pre{padding: 0;}#sk-container-id-8 div.sk-toggleable {background-color: white;}#sk-container-id-8 label.sk-toggleable__label {cursor: pointer;display: block;width: 100%;margin-bottom: 0;padding: 0.3em;box-sizing: border-box;text-align: center;}#sk-container-id-8 label.sk-toggleable__label-arrow:before {content: \"▸\";float: left;margin-right: 0.25em;color: #696969;}#sk-container-id-8 label.sk-toggleable__label-arrow:hover:before {color: black;}#sk-container-id-8 div.sk-estimator:hover label.sk-toggleable__label-arrow:before {color: black;}#sk-container-id-8 div.sk-toggleable__content {max-height: 0;max-width: 0;overflow: hidden;text-align: left;background-color: #f0f8ff;}#sk-container-id-8 div.sk-toggleable__content pre {margin: 0.2em;color: black;border-radius: 0.25em;background-color: #f0f8ff;}#sk-container-id-8 input.sk-toggleable__control:checked~div.sk-toggleable__content {max-height: 200px;max-width: 100%;overflow: auto;}#sk-container-id-8 input.sk-toggleable__control:checked~label.sk-toggleable__label-arrow:before {content: \"▾\";}#sk-container-id-8 div.sk-estimator input.sk-toggleable__control:checked~label.sk-toggleable__label {background-color: #d4ebff;}#sk-container-id-8 div.sk-label input.sk-toggleable__control:checked~label.sk-toggleable__label {background-color: #d4ebff;}#sk-container-id-8 input.sk-hidden--visually {border: 0;clip: rect(1px 1px 1px 1px);clip: rect(1px, 1px, 1px, 1px);height: 1px;margin: -1px;overflow: hidden;padding: 0;position: absolute;width: 1px;}#sk-container-id-8 div.sk-estimator {font-family: monospace;background-color: #f0f8ff;border: 1px dotted black;border-radius: 0.25em;box-sizing: border-box;margin-bottom: 0.5em;}#sk-container-id-8 div.sk-estimator:hover {background-color: #d4ebff;}#sk-container-id-8 div.sk-parallel-item::after {content: \"\";width: 100%;border-bottom: 1px solid gray;flex-grow: 1;}#sk-container-id-8 div.sk-label:hover label.sk-toggleable__label {background-color: #d4ebff;}#sk-container-id-8 div.sk-serial::before {content: \"\";position: absolute;border-left: 1px solid gray;box-sizing: border-box;top: 0;bottom: 0;left: 50%;z-index: 0;}#sk-container-id-8 div.sk-serial {display: flex;flex-direction: column;align-items: center;background-color: white;padding-right: 0.2em;padding-left: 0.2em;position: relative;}#sk-container-id-8 div.sk-item {position: relative;z-index: 1;}#sk-container-id-8 div.sk-parallel {display: flex;align-items: stretch;justify-content: center;background-color: white;position: relative;}#sk-container-id-8 div.sk-item::before, #sk-container-id-8 div.sk-parallel-item::before {content: \"\";position: absolute;border-left: 1px solid gray;box-sizing: border-box;top: 0;bottom: 0;left: 50%;z-index: -1;}#sk-container-id-8 div.sk-parallel-item {display: flex;flex-direction: column;z-index: 1;position: relative;background-color: white;}#sk-container-id-8 div.sk-parallel-item:first-child::after {align-self: flex-end;width: 50%;}#sk-container-id-8 div.sk-parallel-item:last-child::after {align-self: flex-start;width: 50%;}#sk-container-id-8 div.sk-parallel-item:only-child::after {width: 0;}#sk-container-id-8 div.sk-dashed-wrapped {border: 1px dashed gray;margin: 0 0.4em 0.5em 0.4em;box-sizing: border-box;padding-bottom: 0.4em;background-color: white;}#sk-container-id-8 div.sk-label label {font-family: monospace;font-weight: bold;display: inline-block;line-height: 1.2em;}#sk-container-id-8 div.sk-label-container {text-align: center;}#sk-container-id-8 div.sk-container {/* jupyter's `normalize.less` sets `[hidden] { display: none; }` but bootstrap.min.css set `[hidden] { display: none !important; }` so we also need the `!important` here to be able to override the default hidden behavior on the sphinx rendered scikit-learn.org. See: https://github.com/scikit-learn/scikit-learn/issues/21755 */display: inline-block !important;position: relative;}#sk-container-id-8 div.sk-text-repr-fallback {display: none;}</style><div id=\"sk-container-id-8\" class=\"sk-top-container\"><div class=\"sk-text-repr-fallback\"><pre>XGBClassifier(base_score=None, booster=None, callbacks=None,\n",
       "              colsample_bylevel=None, colsample_bynode=None,\n",
       "              colsample_bytree=None, early_stopping_rounds=None,\n",
       "              enable_categorical=False, eval_metric=None, feature_types=None,\n",
       "              gamma=None, gpu_id=None, grow_policy=None, importance_type=None,\n",
       "              interaction_constraints=None, learning_rate=None, max_bin=None,\n",
       "              max_cat_threshold=None, max_cat_to_onehot=None,\n",
       "              max_delta_step=None, max_depth=None, max_leaves=None,\n",
       "              min_child_weight=None, missing=nan, monotone_constraints=None,\n",
       "              n_estimators=100, n_jobs=None, num_parallel_tree=None,\n",
       "              predictor=None, random_state=10, ...)</pre><b>In a Jupyter environment, please rerun this cell to show the HTML representation or trust the notebook. <br />On GitHub, the HTML representation is unable to render, please try loading this page with nbviewer.org.</b></div><div class=\"sk-container\" hidden><div class=\"sk-item\"><div class=\"sk-estimator sk-toggleable\"><input class=\"sk-toggleable__control sk-hidden--visually\" id=\"sk-estimator-id-8\" type=\"checkbox\" checked><label for=\"sk-estimator-id-8\" class=\"sk-toggleable__label sk-toggleable__label-arrow\">XGBClassifier</label><div class=\"sk-toggleable__content\"><pre>XGBClassifier(base_score=None, booster=None, callbacks=None,\n",
       "              colsample_bylevel=None, colsample_bynode=None,\n",
       "              colsample_bytree=None, early_stopping_rounds=None,\n",
       "              enable_categorical=False, eval_metric=None, feature_types=None,\n",
       "              gamma=None, gpu_id=None, grow_policy=None, importance_type=None,\n",
       "              interaction_constraints=None, learning_rate=None, max_bin=None,\n",
       "              max_cat_threshold=None, max_cat_to_onehot=None,\n",
       "              max_delta_step=None, max_depth=None, max_leaves=None,\n",
       "              min_child_weight=None, missing=nan, monotone_constraints=None,\n",
       "              n_estimators=100, n_jobs=None, num_parallel_tree=None,\n",
       "              predictor=None, random_state=10, ...)</pre></div></div></div></div></div>"
      ],
      "text/plain": [
       "XGBClassifier(base_score=None, booster=None, callbacks=None,\n",
       "              colsample_bylevel=None, colsample_bynode=None,\n",
       "              colsample_bytree=None, early_stopping_rounds=None,\n",
       "              enable_categorical=False, eval_metric=None, feature_types=None,\n",
       "              gamma=None, gpu_id=None, grow_policy=None, importance_type=None,\n",
       "              interaction_constraints=None, learning_rate=None, max_bin=None,\n",
       "              max_cat_threshold=None, max_cat_to_onehot=None,\n",
       "              max_delta_step=None, max_depth=None, max_leaves=None,\n",
       "              min_child_weight=None, missing=nan, monotone_constraints=None,\n",
       "              n_estimators=100, n_jobs=None, num_parallel_tree=None,\n",
       "              predictor=None, random_state=10, ...)"
      ]
     },
     "execution_count": 89,
     "metadata": {},
     "output_type": "execute_result"
    }
   ],
   "source": [
    "# обучаем бейзлайн XGBoost\n",
    "xgb_clf = XGBClassifier(random_state=random_state)\n",
    "eval_set = [(X_val, y_val)]\n",
    "\n",
    "xgb_clf.fit(X_train_,\n",
    "            y_train_,\n",
    "            eval_set=eval_set,\n",
    "            early_stopping_rounds=100,\n",
    "            verbose=0)"
   ]
  },
  {
   "cell_type": "code",
   "execution_count": 90,
   "id": "eb35e000",
   "metadata": {},
   "outputs": [
    {
     "name": "stdout",
     "output_type": "stream",
     "text": [
      "ROC-AUC train = 0.655\n",
      "ROC-AUC test = 0.623\n",
      "delta = 5.15%\n"
     ]
    }
   ],
   "source": [
    "# проверка на переобучение\n",
    "check_overfitting_classification(xgb_clf, X_train, y_train, X_test, y_test)"
   ]
  },
  {
   "cell_type": "code",
   "execution_count": 91,
   "id": "abe82350",
   "metadata": {},
   "outputs": [
    {
     "data": {
      "text/html": [
       "<div>\n",
       "<style scoped>\n",
       "    .dataframe tbody tr th:only-of-type {\n",
       "        vertical-align: middle;\n",
       "    }\n",
       "\n",
       "    .dataframe tbody tr th {\n",
       "        vertical-align: top;\n",
       "    }\n",
       "\n",
       "    .dataframe thead th {\n",
       "        text-align: right;\n",
       "    }\n",
       "</style>\n",
       "<table border=\"1\" class=\"dataframe\">\n",
       "  <thead>\n",
       "    <tr style=\"text-align: right;\">\n",
       "      <th></th>\n",
       "      <th>model</th>\n",
       "      <th>Precision</th>\n",
       "      <th>Recall</th>\n",
       "      <th>f1</th>\n",
       "      <th>ROC_AUC</th>\n",
       "    </tr>\n",
       "  </thead>\n",
       "  <tbody>\n",
       "    <tr>\n",
       "      <th>0</th>\n",
       "      <td>LightGBM_Baseline</td>\n",
       "      <td>0.616125</td>\n",
       "      <td>0.515850</td>\n",
       "      <td>0.561546</td>\n",
       "      <td>0.626908</td>\n",
       "    </tr>\n",
       "    <tr>\n",
       "      <th>0</th>\n",
       "      <td>CatBoost_Baseline</td>\n",
       "      <td>0.609918</td>\n",
       "      <td>0.558043</td>\n",
       "      <td>0.582828</td>\n",
       "      <td>0.628648</td>\n",
       "    </tr>\n",
       "    <tr>\n",
       "      <th>0</th>\n",
       "      <td>XGBoost_Baseline</td>\n",
       "      <td>0.599283</td>\n",
       "      <td>0.586973</td>\n",
       "      <td>0.593064</td>\n",
       "      <td>0.622826</td>\n",
       "    </tr>\n",
       "  </tbody>\n",
       "</table>\n",
       "</div>"
      ],
      "text/plain": [
       "               model  Precision    Recall        f1   ROC_AUC\n",
       "0  LightGBM_Baseline   0.616125  0.515850  0.561546  0.626908\n",
       "0  CatBoost_Baseline   0.609918  0.558043  0.582828  0.628648\n",
       "0   XGBoost_Baseline   0.599283  0.586973  0.593064  0.622826"
      ]
     },
     "execution_count": 91,
     "metadata": {},
     "output_type": "execute_result"
    }
   ],
   "source": [
    "# получим итоговую оценку\n",
    "y_pred = xgb_clf.predict(X_test)\n",
    "y_score = xgb_clf.predict_proba(X_test)\n",
    "\n",
    "metrics = pd.concat([\n",
    "    metrics,\n",
    "    get_metrics_classification(y_test,\n",
    "                               y_pred,\n",
    "                               y_score,\n",
    "                               name='XGBoost_Baseline')\n",
    "])\n",
    "metrics"
   ]
  },
  {
   "cell_type": "markdown",
   "id": "fa4ba4be",
   "metadata": {},
   "source": [
    "## RandomForest"
   ]
  },
  {
   "cell_type": "code",
   "execution_count": 92,
   "id": "72bba3b0",
   "metadata": {},
   "outputs": [
    {
     "data": {
      "text/html": [
       "<style>#sk-container-id-9 {color: black;background-color: white;}#sk-container-id-9 pre{padding: 0;}#sk-container-id-9 div.sk-toggleable {background-color: white;}#sk-container-id-9 label.sk-toggleable__label {cursor: pointer;display: block;width: 100%;margin-bottom: 0;padding: 0.3em;box-sizing: border-box;text-align: center;}#sk-container-id-9 label.sk-toggleable__label-arrow:before {content: \"▸\";float: left;margin-right: 0.25em;color: #696969;}#sk-container-id-9 label.sk-toggleable__label-arrow:hover:before {color: black;}#sk-container-id-9 div.sk-estimator:hover label.sk-toggleable__label-arrow:before {color: black;}#sk-container-id-9 div.sk-toggleable__content {max-height: 0;max-width: 0;overflow: hidden;text-align: left;background-color: #f0f8ff;}#sk-container-id-9 div.sk-toggleable__content pre {margin: 0.2em;color: black;border-radius: 0.25em;background-color: #f0f8ff;}#sk-container-id-9 input.sk-toggleable__control:checked~div.sk-toggleable__content {max-height: 200px;max-width: 100%;overflow: auto;}#sk-container-id-9 input.sk-toggleable__control:checked~label.sk-toggleable__label-arrow:before {content: \"▾\";}#sk-container-id-9 div.sk-estimator input.sk-toggleable__control:checked~label.sk-toggleable__label {background-color: #d4ebff;}#sk-container-id-9 div.sk-label input.sk-toggleable__control:checked~label.sk-toggleable__label {background-color: #d4ebff;}#sk-container-id-9 input.sk-hidden--visually {border: 0;clip: rect(1px 1px 1px 1px);clip: rect(1px, 1px, 1px, 1px);height: 1px;margin: -1px;overflow: hidden;padding: 0;position: absolute;width: 1px;}#sk-container-id-9 div.sk-estimator {font-family: monospace;background-color: #f0f8ff;border: 1px dotted black;border-radius: 0.25em;box-sizing: border-box;margin-bottom: 0.5em;}#sk-container-id-9 div.sk-estimator:hover {background-color: #d4ebff;}#sk-container-id-9 div.sk-parallel-item::after {content: \"\";width: 100%;border-bottom: 1px solid gray;flex-grow: 1;}#sk-container-id-9 div.sk-label:hover label.sk-toggleable__label {background-color: #d4ebff;}#sk-container-id-9 div.sk-serial::before {content: \"\";position: absolute;border-left: 1px solid gray;box-sizing: border-box;top: 0;bottom: 0;left: 50%;z-index: 0;}#sk-container-id-9 div.sk-serial {display: flex;flex-direction: column;align-items: center;background-color: white;padding-right: 0.2em;padding-left: 0.2em;position: relative;}#sk-container-id-9 div.sk-item {position: relative;z-index: 1;}#sk-container-id-9 div.sk-parallel {display: flex;align-items: stretch;justify-content: center;background-color: white;position: relative;}#sk-container-id-9 div.sk-item::before, #sk-container-id-9 div.sk-parallel-item::before {content: \"\";position: absolute;border-left: 1px solid gray;box-sizing: border-box;top: 0;bottom: 0;left: 50%;z-index: -1;}#sk-container-id-9 div.sk-parallel-item {display: flex;flex-direction: column;z-index: 1;position: relative;background-color: white;}#sk-container-id-9 div.sk-parallel-item:first-child::after {align-self: flex-end;width: 50%;}#sk-container-id-9 div.sk-parallel-item:last-child::after {align-self: flex-start;width: 50%;}#sk-container-id-9 div.sk-parallel-item:only-child::after {width: 0;}#sk-container-id-9 div.sk-dashed-wrapped {border: 1px dashed gray;margin: 0 0.4em 0.5em 0.4em;box-sizing: border-box;padding-bottom: 0.4em;background-color: white;}#sk-container-id-9 div.sk-label label {font-family: monospace;font-weight: bold;display: inline-block;line-height: 1.2em;}#sk-container-id-9 div.sk-label-container {text-align: center;}#sk-container-id-9 div.sk-container {/* jupyter's `normalize.less` sets `[hidden] { display: none; }` but bootstrap.min.css set `[hidden] { display: none !important; }` so we also need the `!important` here to be able to override the default hidden behavior on the sphinx rendered scikit-learn.org. See: https://github.com/scikit-learn/scikit-learn/issues/21755 */display: inline-block !important;position: relative;}#sk-container-id-9 div.sk-text-repr-fallback {display: none;}</style><div id=\"sk-container-id-9\" class=\"sk-top-container\"><div class=\"sk-text-repr-fallback\"><pre>RandomForestClassifier(class_weight=&#x27;balanced&#x27;, random_state=10)</pre><b>In a Jupyter environment, please rerun this cell to show the HTML representation or trust the notebook. <br />On GitHub, the HTML representation is unable to render, please try loading this page with nbviewer.org.</b></div><div class=\"sk-container\" hidden><div class=\"sk-item\"><div class=\"sk-estimator sk-toggleable\"><input class=\"sk-toggleable__control sk-hidden--visually\" id=\"sk-estimator-id-9\" type=\"checkbox\" checked><label for=\"sk-estimator-id-9\" class=\"sk-toggleable__label sk-toggleable__label-arrow\">RandomForestClassifier</label><div class=\"sk-toggleable__content\"><pre>RandomForestClassifier(class_weight=&#x27;balanced&#x27;, random_state=10)</pre></div></div></div></div></div>"
      ],
      "text/plain": [
       "RandomForestClassifier(class_weight='balanced', random_state=10)"
      ]
     },
     "execution_count": 92,
     "metadata": {},
     "output_type": "execute_result"
    }
   ],
   "source": [
    "# обучение бейзлайна RandomForest\n",
    "rf_clf = RandomForestClassifier(class_weight='balanced',\n",
    "                                random_state=RAND)\n",
    "\n",
    "rf_clf.fit(X_train, y_train)"
   ]
  },
  {
   "cell_type": "code",
   "execution_count": 93,
   "id": "dfdbf910",
   "metadata": {},
   "outputs": [
    {
     "name": "stdout",
     "output_type": "stream",
     "text": [
      "ROC-AUC train = 1.000\n",
      "ROC-AUC test = 0.595\n",
      "delta = 67.92%\n"
     ]
    }
   ],
   "source": [
    "# проверка на переобучение\n",
    "check_overfitting_classification(rf_clf, X_train, y_train, X_test, y_test)"
   ]
  },
  {
   "cell_type": "code",
   "execution_count": 94,
   "id": "26e8afc4",
   "metadata": {},
   "outputs": [
    {
     "data": {
      "text/html": [
       "<div>\n",
       "<style scoped>\n",
       "    .dataframe tbody tr th:only-of-type {\n",
       "        vertical-align: middle;\n",
       "    }\n",
       "\n",
       "    .dataframe tbody tr th {\n",
       "        vertical-align: top;\n",
       "    }\n",
       "\n",
       "    .dataframe thead th {\n",
       "        text-align: right;\n",
       "    }\n",
       "</style>\n",
       "<table border=\"1\" class=\"dataframe\">\n",
       "  <thead>\n",
       "    <tr style=\"text-align: right;\">\n",
       "      <th></th>\n",
       "      <th>model</th>\n",
       "      <th>Precision</th>\n",
       "      <th>Recall</th>\n",
       "      <th>f1</th>\n",
       "      <th>ROC_AUC</th>\n",
       "    </tr>\n",
       "  </thead>\n",
       "  <tbody>\n",
       "    <tr>\n",
       "      <th>0</th>\n",
       "      <td>LightGBM_Baseline</td>\n",
       "      <td>0.616125</td>\n",
       "      <td>0.515850</td>\n",
       "      <td>0.561546</td>\n",
       "      <td>0.626908</td>\n",
       "    </tr>\n",
       "    <tr>\n",
       "      <th>0</th>\n",
       "      <td>CatBoost_Baseline</td>\n",
       "      <td>0.609918</td>\n",
       "      <td>0.558043</td>\n",
       "      <td>0.582828</td>\n",
       "      <td>0.628648</td>\n",
       "    </tr>\n",
       "    <tr>\n",
       "      <th>0</th>\n",
       "      <td>XGBoost_Baseline</td>\n",
       "      <td>0.599283</td>\n",
       "      <td>0.586973</td>\n",
       "      <td>0.593064</td>\n",
       "      <td>0.622826</td>\n",
       "    </tr>\n",
       "    <tr>\n",
       "      <th>0</th>\n",
       "      <td>RandomForest_Baseline</td>\n",
       "      <td>0.580521</td>\n",
       "      <td>0.584017</td>\n",
       "      <td>0.582264</td>\n",
       "      <td>0.595487</td>\n",
       "    </tr>\n",
       "  </tbody>\n",
       "</table>\n",
       "</div>"
      ],
      "text/plain": [
       "                   model  Precision    Recall        f1   ROC_AUC\n",
       "0      LightGBM_Baseline   0.616125  0.515850  0.561546  0.626908\n",
       "0      CatBoost_Baseline   0.609918  0.558043  0.582828  0.628648\n",
       "0       XGBoost_Baseline   0.599283  0.586973  0.593064  0.622826\n",
       "0  RandomForest_Baseline   0.580521  0.584017  0.582264  0.595487"
      ]
     },
     "execution_count": 94,
     "metadata": {},
     "output_type": "execute_result"
    }
   ],
   "source": [
    "# получим итоговую оценку\n",
    "y_pred = rf_clf.predict(X_test)\n",
    "y_score = rf_clf.predict_proba(X_test)\n",
    "\n",
    "metrics = pd.concat([\n",
    "    metrics,\n",
    "    get_metrics_classification(y_test,\n",
    "                               y_pred,\n",
    "                               y_score,\n",
    "                               name='RandomForest_Baseline')\n",
    "])\n",
    "metrics"
   ]
  },
  {
   "cell_type": "markdown",
   "id": "9df2f20f",
   "metadata": {},
   "source": [
    "Вывод: лучшие метрики у Catboost. Попробуем подобрать параметры для этой модели и улучшить метрики"
   ]
  },
  {
   "cell_type": "markdown",
   "id": "074430ce",
   "metadata": {},
   "source": [
    "# Model tuning"
   ]
  },
  {
   "cell_type": "markdown",
   "id": "4942d78f",
   "metadata": {},
   "source": [
    "## Train/test split"
   ]
  },
  {
   "cell_type": "code",
   "execution_count": 96,
   "id": "bda2cdf0",
   "metadata": {},
   "outputs": [],
   "source": [
    "# сплит данных на train/validation/test\n",
    "X = train_data.drop([col_to_drop, target_col], axis=1)\n",
    "y = train_data[target_col]\n",
    "\n",
    "X_train, X_test, y_train, y_test = train_test_split(X,\n",
    "                                                    y,\n",
    "                                                    test_size=test_size,\n",
    "                                                    shuffle=True,\n",
    "                                                    stratify=y,\n",
    "                                                    random_state=RAND)\n",
    "\n",
    "X_train_, X_val, y_train_, y_val = train_test_split(X_train,\n",
    "                                                    y_train,\n",
    "                                                    test_size=val_size,\n",
    "                                                    shuffle=True,\n",
    "                                                    stratify=y_train,\n",
    "                                                    random_state=RAND)\n",
    "\n",
    "# значение для scale_pos_weight\n",
    "ratio = float(np.sum(y == 0)) / np.sum(y == 1)"
   ]
  },
  {
   "cell_type": "markdown",
   "id": "ce63e008",
   "metadata": {},
   "source": [
    "## Tuning"
   ]
  },
  {
   "cell_type": "code",
   "execution_count": 129,
   "id": "069eb07a",
   "metadata": {},
   "outputs": [],
   "source": [
    "# функция для поиска оптимальных параметров с помощью Optuna\n",
    "def objective_cat(trial, X, y, N_FOLDS, random_state):\n",
    "\n",
    "    cat_params = {\n",
    "#         \"iterations\": trial.suggest_categorical(\"iterations\", [i for i in range(1000, 3501, 100)]),\n",
    "#         \"learning_rate\": trial.suggest_float(\"learning_rate\",\n",
    "#                                              0.001,\n",
    "#                                              0.3,\n",
    "#                                              log=True),\n",
    "        \"iterations\":\n",
    "        trial.suggest_categorical(\"iterations\", [1300]),\n",
    "        \"learning_rate\":\n",
    "        trial.suggest_categorical(\"learning_rate\", [0.048130802271454436]),\n",
    "        \"max_depth\":\n",
    "        trial.suggest_int(\"max_depth\", 4, 10),\n",
    "        \"colsample_bylevel\":\n",
    "        trial.suggest_float(\"colsample_bylevel\", 0.5, 1.0),\n",
    "        \"l2_leaf_reg\":\n",
    "        trial.suggest_uniform(\"l2_leaf_reg\", 1e-5, 1e2),\n",
    "        \"random_strength\":\n",
    "        trial.suggest_uniform('random_strength', 10, 50),\n",
    "        \"bootstrap_type\":\n",
    "        trial.suggest_categorical(\"bootstrap_type\",\n",
    "                                  [\"Bayesian\", \"Bernoulli\", \"MVS\", \"No\"]),\n",
    "        \"border_count\":\n",
    "        trial.suggest_categorical('border_count', [128, 254]),\n",
    "        \"grow_policy\":\n",
    "        trial.suggest_categorical('grow_policy',\n",
    "                                  [\"SymmetricTree\", \"Depthwise\", \"Lossguide\"]),\n",
    "        \"od_wait\":\n",
    "        trial.suggest_int('od_wait', 500, 2000),\n",
    "        \"leaf_estimation_iterations\":\n",
    "        trial.suggest_int('leaf_estimation_iterations', 1, 15),\n",
    "        \"use_best_model\":\n",
    "        trial.suggest_categorical(\"use_best_model\", [True]),\n",
    "        \"eval_metric\":\n",
    "        trial.suggest_categorical(\"eval_metric\", ['AUC']),\n",
    "        \"scale_pos_weight\":\n",
    "        trial.suggest_categorical(\"scale_pos_weight\", [ratio]),\n",
    "        \"random_state\":\n",
    "        trial.suggest_categorical(\"random_state\", [random_state])\n",
    "    }\n",
    "\n",
    "    if cat_params[\"bootstrap_type\"] == \"Bayesian\":\n",
    "        cat_params[\"bagging_temperature\"] = trial.suggest_float(\n",
    "            \"bagging_temperature\", 0, 100)\n",
    "    elif cat_params[\"bootstrap_type\"] == \"Bernoulli\":\n",
    "        cat_params[\"subsample\"] = trial.suggest_float(\"subsample\",\n",
    "                                                      0.1,\n",
    "                                                      1,\n",
    "                                                      log=True)\n",
    "\n",
    "    cv = StratifiedKFold(n_splits=N_FOLDS,\n",
    "                         shuffle=True,\n",
    "                         random_state=random_state)\n",
    "\n",
    "    cv_predicts = np.empty(N_FOLDS)\n",
    "\n",
    "    for idx, (train_idx, test_idx) in enumerate(cv.split(X, y)):\n",
    "        X_train, X_test = X.iloc[train_idx], X.iloc[test_idx]\n",
    "        y_train, y_test = y.iloc[train_idx], y.iloc[test_idx]\n",
    "        \n",
    "        cat_features = X.select_dtypes('category').columns.tolist()\n",
    "        model = CatBoostClassifier(**cat_params, cat_features=cat_features)\n",
    "        model.fit(X_train,\n",
    "                  y_train,\n",
    "                  eval_set=[(X_test, y_test)],\n",
    "                  early_stopping_rounds=100,\n",
    "                  verbose=0)\n",
    "\n",
    "        preds_proba = model.predict_proba(X_test)[:, 1]\n",
    "        cv_predicts[idx] = roc_auc_score(y_test, preds_proba)\n",
    "\n",
    "        return np.mean(cv_predicts)"
   ]
  },
  {
   "cell_type": "code",
   "execution_count": 135,
   "id": "ea92d4e1",
   "metadata": {},
   "outputs": [
    {
     "data": {
      "application/vnd.jupyter.widget-view+json": {
       "model_id": "4250e7dd3d7943ff933c944233b83a73",
       "version_major": 2,
       "version_minor": 0
      },
      "text/plain": [
       "  0%|          | 0/15 [00:00<?, ?it/s]"
      ]
     },
     "metadata": {},
     "output_type": "display_data"
    }
   ],
   "source": [
    "# поиск оптимальных параметров\n",
    "\n",
    "study_cat = optuna.create_study(\n",
    "    direction=\"maximize\",\n",
    "    pruner=optuna.pruners.SuccessiveHalvingPruner(),\n",
    "    study_name=\"Cat_01\")\n",
    "\n",
    "function = lambda trial: objective_cat(trial,\n",
    "                                       X_train,\n",
    "                                       y_train,\n",
    "                                       N_FOLDS=config['train']['k_folds'],\n",
    "                                       random_state=config['train'][\n",
    "                                           'random_state'])\n",
    "\n",
    "study_cat.optimize(func, n_trials=15, show_progress_bar=True)"
   ]
  },
  {
   "cell_type": "code",
   "execution_count": 139,
   "id": "4ffc14e4",
   "metadata": {},
   "outputs": [
    {
     "data": {
      "text/plain": [
       "{'iterations': 1300,\n",
       " 'learning_rate': 0.048130802271454436,\n",
       " 'max_depth': 6,\n",
       " 'colsample_bylevel': 0.9268140879307578,\n",
       " 'l2_leaf_reg': 82.20111388604167,\n",
       " 'random_strength': 19.727940456658636,\n",
       " 'bootstrap_type': 'No',\n",
       " 'border_count': 254,\n",
       " 'grow_policy': 'SymmetricTree',\n",
       " 'od_wait': 1322,\n",
       " 'leaf_estimation_iterations': 3,\n",
       " 'use_best_model': True,\n",
       " 'eval_metric': 'AUC',\n",
       " 'scale_pos_weight': 0.9531740695036613,\n",
       " 'random_state': 10}"
      ]
     },
     "execution_count": 139,
     "metadata": {},
     "output_type": "execute_result"
    }
   ],
   "source": [
    "study_cat.best_params"
   ]
  },
  {
   "cell_type": "markdown",
   "id": "c3c1f56d",
   "metadata": {},
   "source": [
    "## Train with best params"
   ]
  },
  {
   "cell_type": "code",
   "execution_count": 136,
   "id": "81c187a9",
   "metadata": {},
   "outputs": [],
   "source": [
    "# обучаем CatBoost на лучших найденных параметрах\n",
    "cat_features = X.select_dtypes('category').columns.tolist()\n",
    "cat_gender = CatBoostClassifier(cat_features=cat_features, **study_cat.best_params)\n",
    "eval_set = [(X_val, y_val)]\n",
    "\n",
    "cat_gender.fit(X_train_,\n",
    "               y_train_,\n",
    "               eval_set=eval_set,\n",
    "               verbose=False,\n",
    "               early_stopping_rounds=100);"
   ]
  },
  {
   "cell_type": "code",
   "execution_count": 137,
   "id": "4e2a2eaa",
   "metadata": {},
   "outputs": [
    {
     "name": "stdout",
     "output_type": "stream",
     "text": [
      "ROC-AUC train = 0.643\n",
      "ROC-AUC test = 0.629\n",
      "delta = 2.19%\n"
     ]
    }
   ],
   "source": [
    "# проверим не переобучилась ли наша модель\n",
    "check_overfitting_classification(cat_gender, X_train, y_train, X_test, y_test)"
   ]
  },
  {
   "cell_type": "code",
   "execution_count": 140,
   "id": "e67e6182",
   "metadata": {},
   "outputs": [
    {
     "data": {
      "text/html": [
       "<div>\n",
       "<style scoped>\n",
       "    .dataframe tbody tr th:only-of-type {\n",
       "        vertical-align: middle;\n",
       "    }\n",
       "\n",
       "    .dataframe tbody tr th {\n",
       "        vertical-align: top;\n",
       "    }\n",
       "\n",
       "    .dataframe thead th {\n",
       "        text-align: right;\n",
       "    }\n",
       "</style>\n",
       "<table border=\"1\" class=\"dataframe\">\n",
       "  <thead>\n",
       "    <tr style=\"text-align: right;\">\n",
       "      <th></th>\n",
       "      <th>model</th>\n",
       "      <th>Precision</th>\n",
       "      <th>Recall</th>\n",
       "      <th>f1</th>\n",
       "      <th>ROC_AUC</th>\n",
       "    </tr>\n",
       "  </thead>\n",
       "  <tbody>\n",
       "    <tr>\n",
       "      <th>0</th>\n",
       "      <td>LightGBM_Baseline</td>\n",
       "      <td>0.616125</td>\n",
       "      <td>0.515850</td>\n",
       "      <td>0.561546</td>\n",
       "      <td>0.626908</td>\n",
       "    </tr>\n",
       "    <tr>\n",
       "      <th>0</th>\n",
       "      <td>CatBoost_Baseline</td>\n",
       "      <td>0.609918</td>\n",
       "      <td>0.558043</td>\n",
       "      <td>0.582828</td>\n",
       "      <td>0.628648</td>\n",
       "    </tr>\n",
       "    <tr>\n",
       "      <th>0</th>\n",
       "      <td>XGBoost_Baseline</td>\n",
       "      <td>0.599283</td>\n",
       "      <td>0.586973</td>\n",
       "      <td>0.593064</td>\n",
       "      <td>0.622826</td>\n",
       "    </tr>\n",
       "    <tr>\n",
       "      <th>0</th>\n",
       "      <td>RandomForest_Baseline</td>\n",
       "      <td>0.580521</td>\n",
       "      <td>0.584017</td>\n",
       "      <td>0.582264</td>\n",
       "      <td>0.595487</td>\n",
       "    </tr>\n",
       "    <tr>\n",
       "      <th>0</th>\n",
       "      <td>CatBoost_Optuna_best_params</td>\n",
       "      <td>0.609584</td>\n",
       "      <td>0.556972</td>\n",
       "      <td>0.582091</td>\n",
       "      <td>0.629386</td>\n",
       "    </tr>\n",
       "  </tbody>\n",
       "</table>\n",
       "</div>"
      ],
      "text/plain": [
       "                         model  Precision    Recall        f1   ROC_AUC\n",
       "0            LightGBM_Baseline   0.616125  0.515850  0.561546  0.626908\n",
       "0            CatBoost_Baseline   0.609918  0.558043  0.582828  0.628648\n",
       "0             XGBoost_Baseline   0.599283  0.586973  0.593064  0.622826\n",
       "0        RandomForest_Baseline   0.580521  0.584017  0.582264  0.595487\n",
       "0  CatBoost_Optuna_best_params   0.609584  0.556972  0.582091  0.629386"
      ]
     },
     "execution_count": 140,
     "metadata": {},
     "output_type": "execute_result"
    }
   ],
   "source": [
    "# получим итоговые метрики на тестовых данных\n",
    "y_pred_test = cat_gender.predict(X_test)\n",
    "y_score_test = cat_gender.predict_proba(X_test)\n",
    "\n",
    "metrics = pd.concat([\n",
    "    metrics,\n",
    "    get_metrics_classification(y_test,\n",
    "                               y_pred_test,\n",
    "                               y_score_test,\n",
    "                               name='CatBoost_Optuna_best_params')\n",
    "])\n",
    "metrics"
   ]
  },
  {
   "cell_type": "markdown",
   "id": "c51aef6b",
   "metadata": {},
   "source": [
    "# Save model and metrics"
   ]
  },
  {
   "cell_type": "code",
   "execution_count": 144,
   "id": "b83a9237",
   "metadata": {},
   "outputs": [],
   "source": [
    "def get_metrics_dict(y_test: pd.Series, y_pred: np.array, y_score: np.array) -> dict:\n",
    "    \"\"\"Функция считает метрики и возвращает словарь\"\"\"\n",
    "    metrics = {\n",
    "        'roc_auc': round(roc_auc_score(y_test, y_score[:, 1]), 4),\n",
    "        'precision': round(precision_score(y_test, y_pred), 4),\n",
    "        'recall': round(recall_score(y_test, y_pred), 4),\n",
    "        'f1': round(f1_score(y_test, y_pred), 4)\n",
    "    }\n",
    "    return metrics"
   ]
  },
  {
   "cell_type": "code",
   "execution_count": 148,
   "id": "6526d206",
   "metadata": {},
   "outputs": [
    {
     "data": {
      "text/plain": [
       "{'roc_auc': 0.6294, 'precision': 0.6096, 'recall': 0.557, 'f1': 0.5821}"
      ]
     },
     "execution_count": 148,
     "metadata": {},
     "output_type": "execute_result"
    }
   ],
   "source": [
    "# получим метрики в виде словаря, чтобы в дальнейшем использовать их для сравнения\n",
    "metrics_dict = get_metrics_dict(y_test, y_pred_test, y_score_test)\n",
    "print(metrics_dict)"
   ]
  },
  {
   "cell_type": "code",
   "execution_count": 160,
   "id": "c4d1381e",
   "metadata": {},
   "outputs": [
    {
     "data": {
      "text/plain": [
       "'../report/metrics.json'"
      ]
     },
     "execution_count": 160,
     "metadata": {},
     "output_type": "execute_result"
    }
   ],
   "source": [
    "metrics_path = config_train['metrics_path']\n",
    "metrics_path"
   ]
  },
  {
   "cell_type": "code",
   "execution_count": 162,
   "id": "b8f5ed67",
   "metadata": {},
   "outputs": [],
   "source": [
    "# сохраним метрики\n",
    "with open(metrics_path, 'w') as f:\n",
    "    json.dump(metrics_dict, f)"
   ]
  },
  {
   "cell_type": "code",
   "execution_count": 152,
   "id": "5e095763",
   "metadata": {},
   "outputs": [
    {
     "data": {
      "text/plain": [
       "['../models/model_clf.joblib']"
      ]
     },
     "execution_count": 152,
     "metadata": {},
     "output_type": "execute_result"
    }
   ],
   "source": [
    "# сохраним лучшую модель\n",
    "joblib.dump(cat_gender, config_train['model_path'])"
   ]
  }
 ],
 "metadata": {
  "kernelspec": {
   "display_name": "Python 3 (ipykernel)",
   "language": "python",
   "name": "python3"
  },
  "language_info": {
   "codemirror_mode": {
    "name": "ipython",
    "version": 3
   },
   "file_extension": ".py",
   "mimetype": "text/x-python",
   "name": "python",
   "nbconvert_exporter": "python",
   "pygments_lexer": "ipython3",
   "version": "3.9.10"
  },
  "toc": {
   "base_numbering": 1,
   "nav_menu": {},
   "number_sections": true,
   "sideBar": true,
   "skip_h1_title": false,
   "title_cell": "Table of Contents",
   "title_sidebar": "Contents",
   "toc_cell": false,
   "toc_position": {
    "height": "calc(100% - 180px)",
    "left": "10px",
    "top": "150px",
    "width": "259px"
   },
   "toc_section_display": true,
   "toc_window_display": true
  }
 },
 "nbformat": 4,
 "nbformat_minor": 5
}
