{
 "cells": [
  {
   "cell_type": "code",
   "execution_count": 95,
   "id": "056892f8",
   "metadata": {},
   "outputs": [],
   "source": [
    "import pandas as pd\n",
    "import numpy as np\n",
    "from stats import mode\n",
    "import tqdm\n",
    "import warnings\n",
    "import yaml\n",
    "import math\n",
    "\n",
    "import os\n",
    "\n",
    "warnings.filterwarnings('ignore')"
   ]
  },
  {
   "cell_type": "markdown",
   "id": "6b803eaa",
   "metadata": {},
   "source": [
    "# Описание задачи"
   ]
  },
  {
   "cell_type": "markdown",
   "id": "a80d0599",
   "metadata": {},
   "source": [
    "Целью данного проекта является разработка сервиса для модели, которая предсказывает пол человека по его HTTP cookies"
   ]
  },
  {
   "cell_type": "markdown",
   "id": "f71c8b06",
   "metadata": {},
   "source": [
    "**В данном jupyter-ноутбуке мы рассмотрим и предобработаем 1 из 10 файлов с данными. После чего аггрегируем отдельно каждый файл в цикле и соединим в 1 датафрейм**"
   ]
  },
  {
   "cell_type": "markdown",
   "id": "eb708a8a",
   "metadata": {},
   "source": [
    "## О соревновании и данных"
   ]
  },
  {
   "cell_type": "markdown",
   "id": "66405499",
   "metadata": {},
   "source": [
    "https://ods.ai/competitions/mtsmlcup\n",
    "\n",
    "Задача соревнования\n",
    "- Определение пола и возраста владельца HTTP cookie по истории активности пользователя в интернете на основе синтетических данных.\n",
    "\n",
    "Метрики соревнования:\n",
    "* ROC-AUC – для определения пола\n",
    "\n",
    "Описание колонок файла с данными:\n",
    "* 'region_name' – Регион\n",
    "* 'city_name' – Населенный пункт\n",
    "* 'cpe_manufacturer_name' – Производитель устройства\n",
    "* 'cpe_model_name' – Модель устройства\n",
    "* 'url_host' – Домен, с которого пришел рекламный запрос\n",
    "* 'cpe_type_cd' – Тип устройства (смартфон или что-то другое)\n",
    "* 'Cpe_model_os_type' – Операционка на устройстве\n",
    "* 'price' – Оценка цены устройства\n",
    "* 'date' – Дата\n",
    "* 'part_of_day' – Время дня (утро, вечер, и тд)\n",
    "* 'request_cnt' – Число запросов одного пользователя за время дня (поле part_of_day)\n",
    "* 'user_id' – ID пользователя\n",
    "\n",
    "Описание колонок файла с таргетами:\n",
    "\n",
    "* 'age' – Возраст пользователя\n",
    "* 'is_male' – Признак пользователя : мужчина (1-Да, 0-Нет)\n",
    "* 'user_id' – ID пользователя"
   ]
  },
  {
   "cell_type": "markdown",
   "id": "d625670d",
   "metadata": {},
   "source": [
    "# Data preparing"
   ]
  },
  {
   "cell_type": "code",
   "execution_count": 154,
   "id": "19e8613b",
   "metadata": {},
   "outputs": [],
   "source": [
    "config_path = '../config/parameters.yaml'\n",
    "config = yaml.load(open(config_path), Loader=yaml.FullLoader)\n",
    "\n",
    "preprocessing = config['preprocessing']"
   ]
  },
  {
   "cell_type": "code",
   "execution_count": 147,
   "id": "9f5314ec",
   "metadata": {
    "scrolled": true
   },
   "outputs": [
    {
     "data": {
      "text/plain": [
       "{'raw_data_extension': '.parquet',\n",
       " 'change_col_types': {'region_name': 'category',\n",
       "  'city_name': 'category',\n",
       "  'cpe_manufacturer_name': 'category',\n",
       "  'cpe_model_name': 'category',\n",
       "  'url_host': 'category',\n",
       "  'cpe_type_cd': 'category',\n",
       "  'cpe_model_os_type': 'category',\n",
       "  'price': 'float32',\n",
       "  'part_of_day': 'category',\n",
       "  'request_cnt': 'int8',\n",
       "  'user_id': 'int32'},\n",
       " 'columns_fill_na': {'price': -999},\n",
       " 'replace_values': {'cpe_model_os_type': {'Apple iOS': 'iOS'},\n",
       "  'cpe_manufacturer_name': {'Huawei Device Company Limited': 'Huawei',\n",
       "   'Motorola Mobility LLC, a Lenovo Company': 'Motorola',\n",
       "   'Sony Mobile Communications Inc.': 'Sony',\n",
       "   'Highscreen Limited': 'Highscreen',\n",
       "   'Realme Chongqing Mobile Telecommunications Corp Ltd': 'Realme',\n",
       "   'Realme Mobile Telecommunications (Shenzhen) Co Ltd': 'Realme'}},\n",
       " 'columns_save_min_max': ['region_cnt',\n",
       "  'city_cnt',\n",
       "  'url_host_cnt',\n",
       "  'part_of_day_morning',\n",
       "  'part_of_day_day',\n",
       "  'part_of_day_evening',\n",
       "  'part_of_day_night',\n",
       "  'act_days',\n",
       "  'request_cnt',\n",
       "  'period_days',\n",
       "  'price'],\n",
       " 'columns_save_unique': ['cpe_type_cd',\n",
       "  'cpe_manufacturer_name',\n",
       "  'cpe_model_os_type'],\n",
       " 'raw_data_path': '../data/raw/',\n",
       " 'agg_data_path': '../data/processed/agg_data.csv',\n",
       " 'unique_values_path': '../data/processed/unique_values.json',\n",
       " 'submit_path': '../data/raw/submit.pqt'}"
      ]
     },
     "execution_count": 147,
     "metadata": {},
     "output_type": "execute_result"
    }
   ],
   "source": [
    "preprocessing"
   ]
  },
  {
   "cell_type": "code",
   "execution_count": 62,
   "id": "b5a8fffa",
   "metadata": {
    "pycharm": {
     "name": "#%%\n"
    }
   },
   "outputs": [],
   "source": [
    "df = pd.read_parquet(\n",
    "    '../data/raw/part-00000-aba60f69-2b63-4cc1-95ca-542598094698-c000.snappy.parquet',\n",
    "    engine='fastparquet')"
   ]
  },
  {
   "cell_type": "code",
   "execution_count": 63,
   "id": "8638b869",
   "metadata": {
    "pycharm": {
     "name": "#%%\n"
    }
   },
   "outputs": [
    {
     "data": {
      "text/plain": [
       "(32638709, 12)"
      ]
     },
     "execution_count": 63,
     "metadata": {},
     "output_type": "execute_result"
    }
   ],
   "source": [
    "df.shape"
   ]
  },
  {
   "cell_type": "code",
   "execution_count": 64,
   "id": "b7584f95",
   "metadata": {
    "pycharm": {
     "name": "#%%\n"
    }
   },
   "outputs": [
    {
     "data": {
      "text/html": [
       "<div>\n",
       "<style scoped>\n",
       "    .dataframe tbody tr th:only-of-type {\n",
       "        vertical-align: middle;\n",
       "    }\n",
       "\n",
       "    .dataframe tbody tr th {\n",
       "        vertical-align: top;\n",
       "    }\n",
       "\n",
       "    .dataframe thead th {\n",
       "        text-align: right;\n",
       "    }\n",
       "</style>\n",
       "<table border=\"1\" class=\"dataframe\">\n",
       "  <thead>\n",
       "    <tr style=\"text-align: right;\">\n",
       "      <th></th>\n",
       "      <th>region_name</th>\n",
       "      <th>city_name</th>\n",
       "      <th>cpe_manufacturer_name</th>\n",
       "      <th>cpe_model_name</th>\n",
       "      <th>url_host</th>\n",
       "      <th>cpe_type_cd</th>\n",
       "      <th>cpe_model_os_type</th>\n",
       "      <th>price</th>\n",
       "      <th>date</th>\n",
       "      <th>part_of_day</th>\n",
       "      <th>request_cnt</th>\n",
       "      <th>user_id</th>\n",
       "    </tr>\n",
       "  </thead>\n",
       "  <tbody>\n",
       "    <tr>\n",
       "      <th>0</th>\n",
       "      <td>Краснодарский край</td>\n",
       "      <td>Краснодар</td>\n",
       "      <td>Apple</td>\n",
       "      <td>iPhone 7</td>\n",
       "      <td>ad.adriver.ru</td>\n",
       "      <td>smartphone</td>\n",
       "      <td>iOS</td>\n",
       "      <td>20368.0</td>\n",
       "      <td>2022-06-15</td>\n",
       "      <td>morning</td>\n",
       "      <td>1</td>\n",
       "      <td>45098</td>\n",
       "    </tr>\n",
       "    <tr>\n",
       "      <th>1</th>\n",
       "      <td>Краснодарский край</td>\n",
       "      <td>Краснодар</td>\n",
       "      <td>Apple</td>\n",
       "      <td>iPhone 7</td>\n",
       "      <td>apple.com</td>\n",
       "      <td>smartphone</td>\n",
       "      <td>iOS</td>\n",
       "      <td>20368.0</td>\n",
       "      <td>2022-06-19</td>\n",
       "      <td>morning</td>\n",
       "      <td>1</td>\n",
       "      <td>45098</td>\n",
       "    </tr>\n",
       "    <tr>\n",
       "      <th>2</th>\n",
       "      <td>Краснодарский край</td>\n",
       "      <td>Краснодар</td>\n",
       "      <td>Apple</td>\n",
       "      <td>iPhone 7</td>\n",
       "      <td>avatars.mds.yandex.net</td>\n",
       "      <td>smartphone</td>\n",
       "      <td>iOS</td>\n",
       "      <td>20368.0</td>\n",
       "      <td>2022-06-12</td>\n",
       "      <td>day</td>\n",
       "      <td>1</td>\n",
       "      <td>45098</td>\n",
       "    </tr>\n",
       "  </tbody>\n",
       "</table>\n",
       "</div>"
      ],
      "text/plain": [
       "          region_name  city_name cpe_manufacturer_name cpe_model_name  \\\n",
       "0  Краснодарский край  Краснодар                 Apple       iPhone 7   \n",
       "1  Краснодарский край  Краснодар                 Apple       iPhone 7   \n",
       "2  Краснодарский край  Краснодар                 Apple       iPhone 7   \n",
       "\n",
       "                 url_host cpe_type_cd cpe_model_os_type    price       date  \\\n",
       "0           ad.adriver.ru  smartphone               iOS  20368.0 2022-06-15   \n",
       "1               apple.com  smartphone               iOS  20368.0 2022-06-19   \n",
       "2  avatars.mds.yandex.net  smartphone               iOS  20368.0 2022-06-12   \n",
       "\n",
       "  part_of_day  request_cnt  user_id  \n",
       "0     morning            1    45098  \n",
       "1     morning            1    45098  \n",
       "2         day            1    45098  "
      ]
     },
     "execution_count": 64,
     "metadata": {},
     "output_type": "execute_result"
    }
   ],
   "source": [
    "df.head(3)"
   ]
  },
  {
   "cell_type": "code",
   "execution_count": 152,
   "id": "fca4477e",
   "metadata": {},
   "outputs": [
    {
     "data": {
      "text/html": [
       "<div>\n",
       "<style scoped>\n",
       "    .dataframe tbody tr th:only-of-type {\n",
       "        vertical-align: middle;\n",
       "    }\n",
       "\n",
       "    .dataframe tbody tr th {\n",
       "        vertical-align: top;\n",
       "    }\n",
       "\n",
       "    .dataframe thead th {\n",
       "        text-align: right;\n",
       "    }\n",
       "</style>\n",
       "<table border=\"1\" class=\"dataframe\">\n",
       "  <thead>\n",
       "    <tr style=\"text-align: right;\">\n",
       "      <th></th>\n",
       "      <th>user_id</th>\n",
       "    </tr>\n",
       "  </thead>\n",
       "  <tbody>\n",
       "    <tr>\n",
       "      <th>221301</th>\n",
       "      <td>221301</td>\n",
       "    </tr>\n",
       "    <tr>\n",
       "      <th>31271</th>\n",
       "      <td>31271</td>\n",
       "    </tr>\n",
       "    <tr>\n",
       "      <th>211594</th>\n",
       "      <td>211594</td>\n",
       "    </tr>\n",
       "  </tbody>\n",
       "</table>\n",
       "</div>"
      ],
      "text/plain": [
       "        user_id\n",
       "221301   221301\n",
       "31271     31271\n",
       "211594   211594"
      ]
     },
     "execution_count": 152,
     "metadata": {},
     "output_type": "execute_result"
    }
   ],
   "source": [
    "# для примера сохраним сырые данные для id, по которым нужно сделать предсказание\n",
    "submit_id = pd.read_parquet(preprocessing['submit_path'])\n",
    "submit_id.head(3)"
   ]
  },
  {
   "cell_type": "code",
   "execution_count": 155,
   "id": "3fe1dd19",
   "metadata": {},
   "outputs": [
    {
     "data": {
      "text/html": [
       "<div>\n",
       "<style scoped>\n",
       "    .dataframe tbody tr th:only-of-type {\n",
       "        vertical-align: middle;\n",
       "    }\n",
       "\n",
       "    .dataframe tbody tr th {\n",
       "        vertical-align: top;\n",
       "    }\n",
       "\n",
       "    .dataframe thead th {\n",
       "        text-align: right;\n",
       "    }\n",
       "</style>\n",
       "<table border=\"1\" class=\"dataframe\">\n",
       "  <thead>\n",
       "    <tr style=\"text-align: right;\">\n",
       "      <th></th>\n",
       "      <th>user_id</th>\n",
       "      <th>region_name</th>\n",
       "      <th>city_name</th>\n",
       "      <th>cpe_manufacturer_name</th>\n",
       "      <th>cpe_model_name</th>\n",
       "      <th>url_host</th>\n",
       "      <th>cpe_type_cd</th>\n",
       "      <th>cpe_model_os_type</th>\n",
       "      <th>price</th>\n",
       "      <th>date</th>\n",
       "      <th>part_of_day</th>\n",
       "      <th>request_cnt</th>\n",
       "    </tr>\n",
       "  </thead>\n",
       "  <tbody>\n",
       "    <tr>\n",
       "      <th>0</th>\n",
       "      <td>211594</td>\n",
       "      <td>Ростовская область</td>\n",
       "      <td>Сальск</td>\n",
       "      <td>Xiaomi</td>\n",
       "      <td>Poco X3 Pro</td>\n",
       "      <td>googleads.g.doubleclick.net</td>\n",
       "      <td>smartphone</td>\n",
       "      <td>Android</td>\n",
       "      <td>23876.0</td>\n",
       "      <td>2021-06-22</td>\n",
       "      <td>evening</td>\n",
       "      <td>1</td>\n",
       "    </tr>\n",
       "  </tbody>\n",
       "</table>\n",
       "</div>"
      ],
      "text/plain": [
       "   user_id         region_name city_name cpe_manufacturer_name cpe_model_name  \\\n",
       "0   211594  Ростовская область    Сальск                Xiaomi    Poco X3 Pro   \n",
       "\n",
       "                      url_host cpe_type_cd cpe_model_os_type    price  \\\n",
       "0  googleads.g.doubleclick.net  smartphone           Android  23876.0   \n",
       "\n",
       "        date part_of_day  request_cnt  \n",
       "0 2021-06-22     evening            1  "
      ]
     },
     "execution_count": 155,
     "metadata": {},
     "output_type": "execute_result"
    }
   ],
   "source": [
    "submit_data = submit_id.merge(df, on='user_id')\n",
    "submit_data.head(1)"
   ]
  },
  {
   "cell_type": "code",
   "execution_count": 157,
   "id": "d6f8486a",
   "metadata": {},
   "outputs": [
    {
     "data": {
      "text/plain": [
       "'../data/check/submit_data.csv'"
      ]
     },
     "execution_count": 157,
     "metadata": {},
     "output_type": "execute_result"
    }
   ],
   "source": [
    "config['evaluate']['submit_data']"
   ]
  },
  {
   "cell_type": "code",
   "execution_count": 160,
   "id": "345d5a16",
   "metadata": {},
   "outputs": [],
   "source": [
    "# сохраняем данные для примера\n",
    "submit_data.to_csv(config['evaluate']['submit_data'], index=False)"
   ]
  },
  {
   "cell_type": "code",
   "execution_count": 65,
   "id": "ed673690",
   "metadata": {},
   "outputs": [],
   "source": [
    "def change_cols_type(data: pd.DataFrame, col_types_dict: dict) -> pd.DataFrame:\n",
    "    \"\"\"\n",
    "    Изменение типа столбцов на заданные\n",
    "    :param data: датафрейм\n",
    "    :param col_types_dict: словарь с признаками и типами данных\n",
    "    :return: датафрейм\n",
    "    \"\"\"\n",
    "    return data.astype(col_types_dict)"
   ]
  },
  {
   "cell_type": "code",
   "execution_count": 66,
   "id": "608866b6",
   "metadata": {},
   "outputs": [],
   "source": [
    "# изменения типа столбцов\n",
    "df = change_cols_type(df, preprocessing['change_col_types'])"
   ]
  },
  {
   "cell_type": "code",
   "execution_count": 67,
   "id": "12917655",
   "metadata": {
    "pycharm": {
     "name": "#%%\n"
    }
   },
   "outputs": [
    {
     "name": "stdout",
     "output_type": "stream",
     "text": [
      "<class 'pandas.core.frame.DataFrame'>\n",
      "RangeIndex: 32638709 entries, 0 to 32638708\n",
      "Data columns (total 12 columns):\n",
      " #   Column                 Dtype         \n",
      "---  ------                 -----         \n",
      " 0   region_name            category      \n",
      " 1   city_name              category      \n",
      " 2   cpe_manufacturer_name  category      \n",
      " 3   cpe_model_name         category      \n",
      " 4   url_host               category      \n",
      " 5   cpe_type_cd            category      \n",
      " 6   cpe_model_os_type      category      \n",
      " 7   price                  float32       \n",
      " 8   date                   datetime64[ns]\n",
      " 9   part_of_day            category      \n",
      " 10  request_cnt            int8          \n",
      " 11  user_id                int32         \n",
      "dtypes: category(8), datetime64[ns](1), float32(1), int32(1), int8(1)\n",
      "memory usage: 936.5 MB\n"
     ]
    }
   ],
   "source": [
    "df.info()"
   ]
  },
  {
   "cell_type": "code",
   "execution_count": 68,
   "id": "d3b6bf18",
   "metadata": {
    "pycharm": {
     "name": "#%%\n"
    }
   },
   "outputs": [
    {
     "data": {
      "text/plain": [
       "region_name                   0\n",
       "city_name                     0\n",
       "cpe_manufacturer_name         0\n",
       "cpe_model_name                0\n",
       "url_host                      0\n",
       "cpe_type_cd                   0\n",
       "cpe_model_os_type             0\n",
       "price                    674264\n",
       "date                          0\n",
       "part_of_day                   0\n",
       "request_cnt                   0\n",
       "user_id                       0\n",
       "dtype: int64"
      ]
     },
     "execution_count": 68,
     "metadata": {},
     "output_type": "execute_result"
    }
   ],
   "source": [
    "df.isna().sum()"
   ]
  },
  {
   "cell_type": "code",
   "execution_count": 69,
   "id": "bf1fb4b7",
   "metadata": {},
   "outputs": [],
   "source": [
    "def fill_na_values(data: pd.DataFrame, fill_na_val: dict) -> pd.DataFrame:\n",
    "    \"\"\"\n",
    "    Заполнение пропусков заданными значениями\n",
    "    :param data: датафрейм\n",
    "    :param fill_na_val: словарь с названиями признаков и значением, которым нужно заполнить пропуки\n",
    "    :return: датафрейм\n",
    "    \"\"\"\n",
    "    return data.fillna(fill_na_val)"
   ]
  },
  {
   "cell_type": "code",
   "execution_count": 70,
   "id": "0d267ac1",
   "metadata": {},
   "outputs": [
    {
     "data": {
      "text/plain": [
       "{'price': -999}"
      ]
     },
     "execution_count": 70,
     "metadata": {},
     "output_type": "execute_result"
    }
   ],
   "source": [
    "preprocessing['columns_fill_na']"
   ]
  },
  {
   "cell_type": "code",
   "execution_count": 71,
   "id": "eed7e7c3",
   "metadata": {},
   "outputs": [],
   "source": [
    "# заполним пропуски\n",
    "df = fill_na_values(df, preprocessing['columns_fill_na'])"
   ]
  },
  {
   "cell_type": "code",
   "execution_count": 72,
   "id": "f4d8e8b7",
   "metadata": {},
   "outputs": [],
   "source": [
    "def replace_model_mistakes(data: pd.DataFrame, replace_val: dict) -> pd.DataFrame:\n",
    "    \"\"\"\n",
    "    Функция исправляет неточности в данных\n",
    "    :param data: датафрейм с данными\n",
    "    :param replace_val: словарь с признаками и значениями\n",
    "    :return: датафрейм\n",
    "    \"\"\"\n",
    "    return data.replace(replace_val)"
   ]
  },
  {
   "cell_type": "code",
   "execution_count": 115,
   "id": "b2a2da0f",
   "metadata": {},
   "outputs": [],
   "source": [
    "df = replace_model_mistakes(df, preprocessing['replace_values'])"
   ]
  },
  {
   "cell_type": "code",
   "execution_count": 116,
   "id": "43a1788e",
   "metadata": {
    "pycharm": {
     "name": "#%%\n"
    }
   },
   "outputs": [],
   "source": [
    "def replace_nokia_type(data: pd.DataFrame) -> pd.DataFrame:\n",
    "    \"\"\"\n",
    "    Функция исправляет неточности в данных, заменяет\n",
    "    :param data: датафрейм с данными\n",
    "    :return: датафрейм с исправленными неточностями\n",
    "    \"\"\"\n",
    "    data['cpe_type_cd'] = np.where((data['cpe_manufacturer_name'] == 'Nokia') &\n",
    "                                   (data['cpe_model_name'] == '3 Dual'),\n",
    "                                   'plain', data['cpe_type_cd'])\n",
    "    return data"
   ]
  },
  {
   "cell_type": "code",
   "execution_count": 75,
   "id": "fa9eac26",
   "metadata": {
    "pycharm": {
     "name": "#%%\n"
    }
   },
   "outputs": [],
   "source": [
    "df = replace_nokia_type(df)"
   ]
  },
  {
   "cell_type": "markdown",
   "id": "85ada3dc",
   "metadata": {},
   "source": [
    "# Feature Generation"
   ]
  },
  {
   "cell_type": "markdown",
   "id": "3dfbcfe3",
   "metadata": {},
   "source": [
    "## Количество запросов в разные части дня"
   ]
  },
  {
   "cell_type": "code",
   "execution_count": 18,
   "id": "f2164a82",
   "metadata": {},
   "outputs": [],
   "source": [
    "def get_data_part_day(data: pd.DataFrame) -> pd.DataFrame:\n",
    "    \"\"\"\n",
    "    Функция аггрегирует данные по user_id и возвращает долю и кол-во визитов в разное время суток\n",
    "    :param data: датафрейм с данными\n",
    "    :return: аггрегированный датафрейм\n",
    "    \"\"\"\n",
    "    df_part_day = pd.get_dummies(data[['user_id', 'part_of_day']])\n",
    "\n",
    "    # кол-во визитов пользователя в разные части дня\n",
    "    df_part_day = (df_part_day.groupby('user_id', as_index=False)\n",
    "                   .agg({'part_of_day_day': 'sum',\n",
    "                         'part_of_day_evening': 'sum',\n",
    "                         'part_of_day_morning': 'sum',\n",
    "                         'part_of_day_night': 'sum'}))\n",
    "\n",
    "    # общее кол-во визитов пользователя\n",
    "    df_part_day['sum_visits'] = (df_part_day.part_of_day_day\n",
    "                                 + df_part_day.part_of_day_evening\n",
    "                                 + df_part_day.part_of_day_morning\n",
    "                                 + df_part_day.part_of_day_night)\n",
    "\n",
    "    # доля визитов в разные части дня\n",
    "    df_part_day['day_pct'] = df_part_day.part_of_day_day / df_part_day.sum_visits\n",
    "    df_part_day['evening_pct'] = df_part_day.part_of_day_evening / df_part_day.sum_visits\n",
    "    df_part_day['morning_pct'] = df_part_day.part_of_day_morning / df_part_day.sum_visits\n",
    "    df_part_day['night_pct'] = df_part_day.part_of_day_night / df_part_day.sum_visits\n",
    "    return df_part_day"
   ]
  },
  {
   "cell_type": "code",
   "execution_count": 19,
   "id": "ba8b770d",
   "metadata": {
    "pycharm": {
     "name": "#%%\n"
    }
   },
   "outputs": [
    {
     "data": {
      "text/html": [
       "<div>\n",
       "<style scoped>\n",
       "    .dataframe tbody tr th:only-of-type {\n",
       "        vertical-align: middle;\n",
       "    }\n",
       "\n",
       "    .dataframe tbody tr th {\n",
       "        vertical-align: top;\n",
       "    }\n",
       "\n",
       "    .dataframe thead th {\n",
       "        text-align: right;\n",
       "    }\n",
       "</style>\n",
       "<table border=\"1\" class=\"dataframe\">\n",
       "  <thead>\n",
       "    <tr style=\"text-align: right;\">\n",
       "      <th></th>\n",
       "      <th>user_id</th>\n",
       "      <th>part_of_day_day</th>\n",
       "      <th>part_of_day_evening</th>\n",
       "      <th>part_of_day_morning</th>\n",
       "      <th>part_of_day_night</th>\n",
       "      <th>sum_visits</th>\n",
       "      <th>day_pct</th>\n",
       "      <th>evening_pct</th>\n",
       "      <th>morning_pct</th>\n",
       "      <th>night_pct</th>\n",
       "    </tr>\n",
       "  </thead>\n",
       "  <tbody>\n",
       "    <tr>\n",
       "      <th>0</th>\n",
       "      <td>4</td>\n",
       "      <td>199</td>\n",
       "      <td>170</td>\n",
       "      <td>212</td>\n",
       "      <td>10</td>\n",
       "      <td>591</td>\n",
       "      <td>0.336717</td>\n",
       "      <td>0.287648</td>\n",
       "      <td>0.358714</td>\n",
       "      <td>0.016920</td>\n",
       "    </tr>\n",
       "    <tr>\n",
       "      <th>1</th>\n",
       "      <td>16</td>\n",
       "      <td>443</td>\n",
       "      <td>321</td>\n",
       "      <td>330</td>\n",
       "      <td>137</td>\n",
       "      <td>1231</td>\n",
       "      <td>0.359870</td>\n",
       "      <td>0.260764</td>\n",
       "      <td>0.268075</td>\n",
       "      <td>0.111292</td>\n",
       "    </tr>\n",
       "    <tr>\n",
       "      <th>2</th>\n",
       "      <td>18</td>\n",
       "      <td>566</td>\n",
       "      <td>114</td>\n",
       "      <td>411</td>\n",
       "      <td>34</td>\n",
       "      <td>1125</td>\n",
       "      <td>0.503111</td>\n",
       "      <td>0.101333</td>\n",
       "      <td>0.365333</td>\n",
       "      <td>0.030222</td>\n",
       "    </tr>\n",
       "  </tbody>\n",
       "</table>\n",
       "</div>"
      ],
      "text/plain": [
       "   user_id  part_of_day_day  part_of_day_evening  part_of_day_morning  \\\n",
       "0        4              199                  170                  212   \n",
       "1       16              443                  321                  330   \n",
       "2       18              566                  114                  411   \n",
       "\n",
       "   part_of_day_night  sum_visits   day_pct  evening_pct  morning_pct  \\\n",
       "0                 10         591  0.336717     0.287648     0.358714   \n",
       "1                137        1231  0.359870     0.260764     0.268075   \n",
       "2                 34        1125  0.503111     0.101333     0.365333   \n",
       "\n",
       "   night_pct  \n",
       "0   0.016920  \n",
       "1   0.111292  \n",
       "2   0.030222  "
      ]
     },
     "execution_count": 19,
     "metadata": {},
     "output_type": "execute_result"
    }
   ],
   "source": [
    "df_part_day = get_data_part_day(df)\n",
    "df_part_day.head(3)"
   ]
  },
  {
   "cell_type": "markdown",
   "id": "558e313e",
   "metadata": {},
   "source": [
    "## Количество дней активности, среднее кол-во запросов в сутки"
   ]
  },
  {
   "cell_type": "code",
   "execution_count": 136,
   "id": "db2d322b",
   "metadata": {},
   "outputs": [],
   "source": [
    "def get_data_days(data: pd.DataFrame) -> pd.DataFrame:\n",
    "    \"\"\"\n",
    "    Функция аггрегирует данные по user_id и возвращает следующие признаки:\n",
    "    - act_days - кол-во дат активности пользователя\n",
    "    - request_cnt - кол-во запросов пользователя\n",
    "    - avg_req_per_day - среднее кол-во запросов пользователя\n",
    "    - period_days - кол-во дней между первым и последним визитом пользователя\n",
    "    - act_days_pct - доля дней, когда пользователь совершал визит\n",
    "\n",
    "    :param data: датафрейм с данными\n",
    "    :return: аггрегированный датафрейм\n",
    "    \"\"\"\n",
    "    # кол-во дней с визитами\n",
    "    df_active_days = (data.groupby('user_id', as_index=False)\n",
    "                      .agg({'date': 'nunique',\n",
    "                            'request_cnt': 'sum'})\n",
    "                      .rename(columns={'date': 'act_days'}))\n",
    "\n",
    "    # среднее кол-во запросов в дни визита\n",
    "    df_active_days['avg_req_per_day'] = (df_active_days.request_cnt /\n",
    "                                         df_active_days.act_days)\n",
    "\n",
    "    # первая и последняя дата визита\n",
    "    df_dates_period = (data.groupby('user_id', as_index=False)\n",
    "                       .agg({'date': ['max', 'min']}))\n",
    "\n",
    "    # кол-во дней между первым и последним заходом\n",
    "    df_dates_period['period_days'] = (df_dates_period['date'].iloc[:, 0] -\n",
    "                                      df_dates_period['date'].iloc[:, 1])\n",
    "    df_dates_period['period_days'] = df_dates_period.period_days.dt.days + 1\n",
    "    df_dates_period = df_dates_period.drop('date', axis=1)\n",
    "\n",
    "    df_dates_period.columns = df_dates_period.columns.droplevel(1)\n",
    "\n",
    "    df_days = (df_active_days\n",
    "               .merge(df_dates_period, on='user_id')\n",
    "               )\n",
    "    # доля дней, когда пользователь совершал визит\n",
    "    df_days['act_days_pct'] = df_days.act_days / df_days.period_days\n",
    "\n",
    "    return df_days"
   ]
  },
  {
   "cell_type": "code",
   "execution_count": 137,
   "id": "23a20ff3",
   "metadata": {
    "pycharm": {
     "name": "#%%\n"
    }
   },
   "outputs": [
    {
     "data": {
      "text/html": [
       "<div>\n",
       "<style scoped>\n",
       "    .dataframe tbody tr th:only-of-type {\n",
       "        vertical-align: middle;\n",
       "    }\n",
       "\n",
       "    .dataframe tbody tr th {\n",
       "        vertical-align: top;\n",
       "    }\n",
       "\n",
       "    .dataframe thead th {\n",
       "        text-align: right;\n",
       "    }\n",
       "</style>\n",
       "<table border=\"1\" class=\"dataframe\">\n",
       "  <thead>\n",
       "    <tr style=\"text-align: right;\">\n",
       "      <th></th>\n",
       "      <th>user_id</th>\n",
       "      <th>act_days</th>\n",
       "      <th>request_cnt</th>\n",
       "      <th>avg_req_per_day</th>\n",
       "      <th>period_days</th>\n",
       "      <th>act_days_pct</th>\n",
       "    </tr>\n",
       "  </thead>\n",
       "  <tbody>\n",
       "    <tr>\n",
       "      <th>0</th>\n",
       "      <td>4</td>\n",
       "      <td>20</td>\n",
       "      <td>777</td>\n",
       "      <td>38.850000</td>\n",
       "      <td>43</td>\n",
       "      <td>0.465116</td>\n",
       "    </tr>\n",
       "    <tr>\n",
       "      <th>1</th>\n",
       "      <td>16</td>\n",
       "      <td>64</td>\n",
       "      <td>2529</td>\n",
       "      <td>39.515625</td>\n",
       "      <td>74</td>\n",
       "      <td>0.864865</td>\n",
       "    </tr>\n",
       "    <tr>\n",
       "      <th>2</th>\n",
       "      <td>18</td>\n",
       "      <td>32</td>\n",
       "      <td>1950</td>\n",
       "      <td>60.937500</td>\n",
       "      <td>38</td>\n",
       "      <td>0.842105</td>\n",
       "    </tr>\n",
       "  </tbody>\n",
       "</table>\n",
       "</div>"
      ],
      "text/plain": [
       "   user_id  act_days  request_cnt  avg_req_per_day  period_days  act_days_pct\n",
       "0        4        20          777        38.850000           43      0.465116\n",
       "1       16        64         2529        39.515625           74      0.864865\n",
       "2       18        32         1950        60.937500           38      0.842105"
      ]
     },
     "execution_count": 137,
     "metadata": {},
     "output_type": "execute_result"
    }
   ],
   "source": [
    "df_days = get_data_days(df)\n",
    "df_days.head(3)"
   ]
  },
  {
   "cell_type": "markdown",
   "id": "9c6e1606",
   "metadata": {},
   "source": [
    "## Цена устройства"
   ]
  },
  {
   "cell_type": "code",
   "execution_count": 117,
   "id": "3845cc3d",
   "metadata": {},
   "outputs": [],
   "source": [
    "def get_user_model_price(data: pd.DataFrame) -> pd.DataFrame:\n",
    "    \"\"\"\n",
    "    Функция аггрегирует данные по user_id и возвращает следующие признаки:\n",
    "    - cpe_type_cd - тип устройства\n",
    "    - cpe_model_os_type - операционная система устройства\n",
    "    - cpe_manufacturer_name - производитель устройства\n",
    "    - price - цена устройства пользователя\n",
    "\n",
    "    :param data: датафрейм с данными\n",
    "    :return: аггрегированный датафрейм\n",
    "    \"\"\"\n",
    "    df_model = data.groupby('user_id', as_index=False).agg({\n",
    "        'cpe_type_cd': mode,\n",
    "        'cpe_manufacturer_name': mode,\n",
    "        'cpe_model_os_type': mode,\n",
    "        'price': 'mean'\n",
    "    })\n",
    "    return df_model.fillna(-999)"
   ]
  },
  {
   "cell_type": "code",
   "execution_count": 118,
   "id": "a456753b",
   "metadata": {
    "pycharm": {
     "name": "#%%\n"
    }
   },
   "outputs": [
    {
     "data": {
      "text/html": [
       "<div>\n",
       "<style scoped>\n",
       "    .dataframe tbody tr th:only-of-type {\n",
       "        vertical-align: middle;\n",
       "    }\n",
       "\n",
       "    .dataframe tbody tr th {\n",
       "        vertical-align: top;\n",
       "    }\n",
       "\n",
       "    .dataframe thead th {\n",
       "        text-align: right;\n",
       "    }\n",
       "</style>\n",
       "<table border=\"1\" class=\"dataframe\">\n",
       "  <thead>\n",
       "    <tr style=\"text-align: right;\">\n",
       "      <th></th>\n",
       "      <th>user_id</th>\n",
       "      <th>cpe_type_cd</th>\n",
       "      <th>cpe_manufacturer_name</th>\n",
       "      <th>cpe_model_os_type</th>\n",
       "      <th>price</th>\n",
       "    </tr>\n",
       "  </thead>\n",
       "  <tbody>\n",
       "    <tr>\n",
       "      <th>0</th>\n",
       "      <td>4</td>\n",
       "      <td>smartphone</td>\n",
       "      <td>Huawei</td>\n",
       "      <td>Android</td>\n",
       "      <td>12990.0</td>\n",
       "    </tr>\n",
       "    <tr>\n",
       "      <th>1</th>\n",
       "      <td>16</td>\n",
       "      <td>smartphone</td>\n",
       "      <td>Samsung</td>\n",
       "      <td>Android</td>\n",
       "      <td>9583.0</td>\n",
       "    </tr>\n",
       "    <tr>\n",
       "      <th>2</th>\n",
       "      <td>18</td>\n",
       "      <td>smartphone</td>\n",
       "      <td>Samsung</td>\n",
       "      <td>Android</td>\n",
       "      <td>22887.0</td>\n",
       "    </tr>\n",
       "  </tbody>\n",
       "</table>\n",
       "</div>"
      ],
      "text/plain": [
       "   user_id cpe_type_cd cpe_manufacturer_name cpe_model_os_type    price\n",
       "0        4  smartphone                Huawei           Android  12990.0\n",
       "1       16  smartphone               Samsung           Android   9583.0\n",
       "2       18  smartphone               Samsung           Android  22887.0"
      ]
     },
     "execution_count": 118,
     "metadata": {},
     "output_type": "execute_result"
    }
   ],
   "source": [
    "df_model = get_user_model_price(df)\n",
    "df_model.head(3)"
   ]
  },
  {
   "cell_type": "markdown",
   "id": "c3a6c53b",
   "metadata": {},
   "source": [
    "## Регион и город"
   ]
  },
  {
   "cell_type": "code",
   "execution_count": 47,
   "id": "adce592c",
   "metadata": {},
   "outputs": [],
   "source": [
    "def get_user_city_cnt(data: pd.DataFrame) -> pd.DataFrame:\n",
    "    \"\"\"\n",
    "    Функция аггрегирует данные по user_id и возвращает следующие признаки:\n",
    "    - region_cnt - кол-во уникальных регионов, из которых был совершен визит\n",
    "    - city_cnt - кол-во уникальных городов, из которых был совершен визит\n",
    "\n",
    "    :param data: датафрейм с данными\n",
    "    :return: аггрегированный датафрейм\n",
    "    \"\"\"\n",
    "    df_city_cnt = data.groupby('user_id', as_index=False) \\\n",
    "        .agg({'region_name': 'nunique',\n",
    "              'city_name': 'nunique'}) \\\n",
    "        .rename(columns={'region_name': 'region_cnt',\n",
    "                         'city_name': 'city_cnt'})\n",
    "    return df_city_cnt"
   ]
  },
  {
   "cell_type": "code",
   "execution_count": 48,
   "id": "4bbe8886",
   "metadata": {
    "pycharm": {
     "name": "#%%\n"
    }
   },
   "outputs": [
    {
     "data": {
      "text/html": [
       "<div>\n",
       "<style scoped>\n",
       "    .dataframe tbody tr th:only-of-type {\n",
       "        vertical-align: middle;\n",
       "    }\n",
       "\n",
       "    .dataframe tbody tr th {\n",
       "        vertical-align: top;\n",
       "    }\n",
       "\n",
       "    .dataframe thead th {\n",
       "        text-align: right;\n",
       "    }\n",
       "</style>\n",
       "<table border=\"1\" class=\"dataframe\">\n",
       "  <thead>\n",
       "    <tr style=\"text-align: right;\">\n",
       "      <th></th>\n",
       "      <th>user_id</th>\n",
       "      <th>region_cnt</th>\n",
       "      <th>city_cnt</th>\n",
       "    </tr>\n",
       "  </thead>\n",
       "  <tbody>\n",
       "    <tr>\n",
       "      <th>0</th>\n",
       "      <td>4</td>\n",
       "      <td>5</td>\n",
       "      <td>9</td>\n",
       "    </tr>\n",
       "    <tr>\n",
       "      <th>1</th>\n",
       "      <td>16</td>\n",
       "      <td>1</td>\n",
       "      <td>1</td>\n",
       "    </tr>\n",
       "    <tr>\n",
       "      <th>2</th>\n",
       "      <td>18</td>\n",
       "      <td>1</td>\n",
       "      <td>2</td>\n",
       "    </tr>\n",
       "  </tbody>\n",
       "</table>\n",
       "</div>"
      ],
      "text/plain": [
       "   user_id  region_cnt  city_cnt\n",
       "0        4           5         9\n",
       "1       16           1         1\n",
       "2       18           1         2"
      ]
     },
     "execution_count": 48,
     "metadata": {},
     "output_type": "execute_result"
    }
   ],
   "source": [
    "df_city_cnt = get_user_city_cnt(df)\n",
    "df_city_cnt.head(3)"
   ]
  },
  {
   "cell_type": "markdown",
   "id": "63413766",
   "metadata": {},
   "source": [
    "## URLs"
   ]
  },
  {
   "cell_type": "code",
   "execution_count": 49,
   "id": "3797db30",
   "metadata": {},
   "outputs": [],
   "source": [
    "def get_user_url_cnt(data: pd.DataFrame) -> pd.DataFrame:\n",
    "    \"\"\"\n",
    "    Функция аггрегирует данные по user_id и возвращает следующие признаки:\n",
    "    - url_host_cnt - кол-во уникальных ссылок, с которых был совершен визит\n",
    "\n",
    "    :param data: датафрейм с данными\n",
    "    :return: аггрегированный датафрейм\n",
    "    \"\"\"\n",
    "    df_url_cnt = data.groupby('user_id', as_index=False) \\\n",
    "        .agg({'url_host': 'nunique'}) \\\n",
    "        .rename(columns={'url_host': 'url_host_cnt'})\n",
    "    return df_url_cnt"
   ]
  },
  {
   "cell_type": "code",
   "execution_count": 50,
   "id": "5c2543aa",
   "metadata": {
    "pycharm": {
     "name": "#%%\n"
    }
   },
   "outputs": [
    {
     "data": {
      "text/html": [
       "<div>\n",
       "<style scoped>\n",
       "    .dataframe tbody tr th:only-of-type {\n",
       "        vertical-align: middle;\n",
       "    }\n",
       "\n",
       "    .dataframe tbody tr th {\n",
       "        vertical-align: top;\n",
       "    }\n",
       "\n",
       "    .dataframe thead th {\n",
       "        text-align: right;\n",
       "    }\n",
       "</style>\n",
       "<table border=\"1\" class=\"dataframe\">\n",
       "  <thead>\n",
       "    <tr style=\"text-align: right;\">\n",
       "      <th></th>\n",
       "      <th>user_id</th>\n",
       "      <th>url_host_cnt</th>\n",
       "    </tr>\n",
       "  </thead>\n",
       "  <tbody>\n",
       "    <tr>\n",
       "      <th>0</th>\n",
       "      <td>4</td>\n",
       "      <td>108</td>\n",
       "    </tr>\n",
       "    <tr>\n",
       "      <th>1</th>\n",
       "      <td>16</td>\n",
       "      <td>50</td>\n",
       "    </tr>\n",
       "    <tr>\n",
       "      <th>2</th>\n",
       "      <td>18</td>\n",
       "      <td>141</td>\n",
       "    </tr>\n",
       "  </tbody>\n",
       "</table>\n",
       "</div>"
      ],
      "text/plain": [
       "   user_id  url_host_cnt\n",
       "0        4           108\n",
       "1       16            50\n",
       "2       18           141"
      ]
     },
     "execution_count": 50,
     "metadata": {},
     "output_type": "execute_result"
    }
   ],
   "source": [
    "df_url = get_user_url_cnt(df)\n",
    "df_url.head(3)"
   ]
  },
  {
   "cell_type": "markdown",
   "id": "bfb5df08",
   "metadata": {},
   "source": [
    "# Итоговый датафрейм"
   ]
  },
  {
   "cell_type": "markdown",
   "id": "dfd59db4",
   "metadata": {},
   "source": [
    "Теперь проделаем те же действия для каждого файла с данными и объединим все в общий датафрейм"
   ]
  },
  {
   "cell_type": "code",
   "execution_count": 53,
   "id": "49bad6c6",
   "metadata": {},
   "outputs": [
    {
     "data": {
      "text/plain": [
       "'../data/processed/agg_data.csv'"
      ]
     },
     "execution_count": 53,
     "metadata": {},
     "output_type": "execute_result"
    }
   ],
   "source": [
    "config['preprocessing']['agg_data_path']"
   ]
  },
  {
   "cell_type": "code",
   "execution_count": 57,
   "id": "2cc20c66",
   "metadata": {},
   "outputs": [
    {
     "data": {
      "text/plain": [
       "'.parquet'"
      ]
     },
     "execution_count": 57,
     "metadata": {},
     "output_type": "execute_result"
    }
   ],
   "source": [
    "config['preprocessing']['raw_data_extension']"
   ]
  },
  {
   "cell_type": "code",
   "execution_count": 125,
   "id": "8658f9cb",
   "metadata": {
    "pycharm": {
     "name": "#%%\n"
    }
   },
   "outputs": [
    {
     "data": {
      "application/vnd.jupyter.widget-view+json": {
       "model_id": "9e17ba50f75b475ab1431f1b06a3bbe0",
       "version_major": 2,
       "version_minor": 0
      },
      "text/plain": [
       "  0%|          | 0/11 [00:00<?, ?it/s]"
      ]
     },
     "metadata": {},
     "output_type": "display_data"
    }
   ],
   "source": [
    "# название папки с файлами\n",
    "DATA_FOLD = config['preprocessing']['raw_data_path']\n",
    "\n",
    "df_final = pd.DataFrame()\n",
    "for file in tqdm.tqdm_notebook(os.listdir(DATA_FOLD)):\n",
    "    if file.endswith(config['preprocessing']['raw_data_extension']):\n",
    "        temp_df = pd.read_parquet(f'{DATA_FOLD}/{file}', engine='fastparquet')\n",
    "        # меняем типы данных\n",
    "        temp_df = change_cols_type(temp_df, preprocessing['change_col_types'])\n",
    "        # заполним пропуски\n",
    "        temp_df = fill_na_values(temp_df, preprocessing['columns_fill_na'])\n",
    "        # заменяем неточный значения\n",
    "        temp_df = replace_model_mistakes(temp_df, preprocessing['replace_values'])\n",
    "        # заменяем неточности типа устройства nokia\n",
    "        temp_df = replace_nokia_type(temp_df)\n",
    "        \n",
    "\n",
    "        # получаем аггрегированные данные\n",
    "        # кол-во визитов пользователя в разное время суток\n",
    "        data_part_day = get_data_part_day(temp_df)\n",
    "        # кол-во активных дней и среднее кол-во запросов в сутки\n",
    "        data_days = get_data_days(temp_df)\n",
    "        # данные об устройстве\n",
    "        data_user_model = get_user_model_price(temp_df)\n",
    "        # кол-во регионов и городов\n",
    "        data_city_cnt = get_user_city_cnt(temp_df)\n",
    "        # кол-во уникальных url\n",
    "        data_url_cnt = get_user_url_cnt(temp_df)\n",
    "\n",
    "        # объединяем все в один датафрейм\n",
    "        temp_df_agg = (data_part_day\n",
    "                       .merge(data_days, how='left', on='user_id')\n",
    "                       .merge(data_user_model, how='left', on='user_id')\n",
    "                       .merge(data_city_cnt, how='left', on='user_id')\n",
    "                       .merge(data_url_cnt, how='left', on='user_id'))\n",
    "\n",
    "        # добавляем аггрегированные данные в итоговый датафрейм\n",
    "        df_final = pd.concat([df_final, temp_df_agg])"
   ]
  },
  {
   "cell_type": "code",
   "execution_count": 126,
   "id": "560d8057",
   "metadata": {
    "pycharm": {
     "name": "#%%\n"
    },
    "scrolled": true
   },
   "outputs": [
    {
     "data": {
      "text/html": [
       "<div>\n",
       "<style scoped>\n",
       "    .dataframe tbody tr th:only-of-type {\n",
       "        vertical-align: middle;\n",
       "    }\n",
       "\n",
       "    .dataframe tbody tr th {\n",
       "        vertical-align: top;\n",
       "    }\n",
       "\n",
       "    .dataframe thead th {\n",
       "        text-align: right;\n",
       "    }\n",
       "</style>\n",
       "<table border=\"1\" class=\"dataframe\">\n",
       "  <thead>\n",
       "    <tr style=\"text-align: right;\">\n",
       "      <th></th>\n",
       "      <th>user_id</th>\n",
       "      <th>part_of_day_day</th>\n",
       "      <th>part_of_day_evening</th>\n",
       "      <th>part_of_day_morning</th>\n",
       "      <th>part_of_day_night</th>\n",
       "      <th>sum_visits</th>\n",
       "      <th>day_pct</th>\n",
       "      <th>evening_pct</th>\n",
       "      <th>morning_pct</th>\n",
       "      <th>night_pct</th>\n",
       "      <th>...</th>\n",
       "      <th>period_days</th>\n",
       "      <th>requests_std</th>\n",
       "      <th>act_days_pct</th>\n",
       "      <th>cpe_type_cd</th>\n",
       "      <th>cpe_manufacturer_name</th>\n",
       "      <th>cpe_model_os_type</th>\n",
       "      <th>price</th>\n",
       "      <th>region_cnt</th>\n",
       "      <th>city_cnt</th>\n",
       "      <th>url_host_cnt</th>\n",
       "    </tr>\n",
       "  </thead>\n",
       "  <tbody>\n",
       "    <tr>\n",
       "      <th>0</th>\n",
       "      <td>13</td>\n",
       "      <td>467</td>\n",
       "      <td>447</td>\n",
       "      <td>411</td>\n",
       "      <td>226</td>\n",
       "      <td>1551</td>\n",
       "      <td>0.301096</td>\n",
       "      <td>0.288201</td>\n",
       "      <td>0.264990</td>\n",
       "      <td>0.145712</td>\n",
       "      <td>...</td>\n",
       "      <td>116</td>\n",
       "      <td>1.618662</td>\n",
       "      <td>0.974138</td>\n",
       "      <td>smartphone</td>\n",
       "      <td>BQ Devices Limited</td>\n",
       "      <td>Android</td>\n",
       "      <td>-999.000000</td>\n",
       "      <td>1</td>\n",
       "      <td>1</td>\n",
       "      <td>83</td>\n",
       "    </tr>\n",
       "    <tr>\n",
       "      <th>1</th>\n",
       "      <td>41</td>\n",
       "      <td>7</td>\n",
       "      <td>13</td>\n",
       "      <td>9</td>\n",
       "      <td>9</td>\n",
       "      <td>38</td>\n",
       "      <td>0.184211</td>\n",
       "      <td>0.342105</td>\n",
       "      <td>0.236842</td>\n",
       "      <td>0.236842</td>\n",
       "      <td>...</td>\n",
       "      <td>4</td>\n",
       "      <td>1.562360</td>\n",
       "      <td>1.000000</td>\n",
       "      <td>smartphone</td>\n",
       "      <td>Xiaomi</td>\n",
       "      <td>Android</td>\n",
       "      <td>12343.000000</td>\n",
       "      <td>1</td>\n",
       "      <td>3</td>\n",
       "      <td>15</td>\n",
       "    </tr>\n",
       "    <tr>\n",
       "      <th>2</th>\n",
       "      <td>69</td>\n",
       "      <td>457</td>\n",
       "      <td>346</td>\n",
       "      <td>314</td>\n",
       "      <td>30</td>\n",
       "      <td>1147</td>\n",
       "      <td>0.398431</td>\n",
       "      <td>0.301656</td>\n",
       "      <td>0.273758</td>\n",
       "      <td>0.026155</td>\n",
       "      <td>...</td>\n",
       "      <td>60</td>\n",
       "      <td>1.331956</td>\n",
       "      <td>0.933333</td>\n",
       "      <td>smartphone</td>\n",
       "      <td>Apple</td>\n",
       "      <td>iOS</td>\n",
       "      <td>16657.000000</td>\n",
       "      <td>1</td>\n",
       "      <td>1</td>\n",
       "      <td>91</td>\n",
       "    </tr>\n",
       "    <tr>\n",
       "      <th>3</th>\n",
       "      <td>71</td>\n",
       "      <td>49</td>\n",
       "      <td>57</td>\n",
       "      <td>12</td>\n",
       "      <td>7</td>\n",
       "      <td>125</td>\n",
       "      <td>0.392000</td>\n",
       "      <td>0.456000</td>\n",
       "      <td>0.096000</td>\n",
       "      <td>0.056000</td>\n",
       "      <td>...</td>\n",
       "      <td>8</td>\n",
       "      <td>0.865094</td>\n",
       "      <td>1.000000</td>\n",
       "      <td>smartphone</td>\n",
       "      <td>Apple</td>\n",
       "      <td>iOS</td>\n",
       "      <td>38037.000000</td>\n",
       "      <td>2</td>\n",
       "      <td>2</td>\n",
       "      <td>35</td>\n",
       "    </tr>\n",
       "    <tr>\n",
       "      <th>4</th>\n",
       "      <td>85</td>\n",
       "      <td>838</td>\n",
       "      <td>1067</td>\n",
       "      <td>602</td>\n",
       "      <td>333</td>\n",
       "      <td>2840</td>\n",
       "      <td>0.295070</td>\n",
       "      <td>0.375704</td>\n",
       "      <td>0.211972</td>\n",
       "      <td>0.117254</td>\n",
       "      <td>...</td>\n",
       "      <td>41</td>\n",
       "      <td>1.144101</td>\n",
       "      <td>0.926829</td>\n",
       "      <td>smartphone</td>\n",
       "      <td>Apple</td>\n",
       "      <td>iOS</td>\n",
       "      <td>55809.003906</td>\n",
       "      <td>2</td>\n",
       "      <td>6</td>\n",
       "      <td>174</td>\n",
       "    </tr>\n",
       "  </tbody>\n",
       "</table>\n",
       "<p>5 rows × 23 columns</p>\n",
       "</div>"
      ],
      "text/plain": [
       "   user_id  part_of_day_day  part_of_day_evening  part_of_day_morning  \\\n",
       "0       13              467                  447                  411   \n",
       "1       41                7                   13                    9   \n",
       "2       69              457                  346                  314   \n",
       "3       71               49                   57                   12   \n",
       "4       85              838                 1067                  602   \n",
       "\n",
       "   part_of_day_night  sum_visits   day_pct  evening_pct  morning_pct  \\\n",
       "0                226        1551  0.301096     0.288201     0.264990   \n",
       "1                  9          38  0.184211     0.342105     0.236842   \n",
       "2                 30        1147  0.398431     0.301656     0.273758   \n",
       "3                  7         125  0.392000     0.456000     0.096000   \n",
       "4                333        2840  0.295070     0.375704     0.211972   \n",
       "\n",
       "   night_pct  ...  period_days  requests_std  act_days_pct  cpe_type_cd  \\\n",
       "0   0.145712  ...          116      1.618662      0.974138   smartphone   \n",
       "1   0.236842  ...            4      1.562360      1.000000   smartphone   \n",
       "2   0.026155  ...           60      1.331956      0.933333   smartphone   \n",
       "3   0.056000  ...            8      0.865094      1.000000   smartphone   \n",
       "4   0.117254  ...           41      1.144101      0.926829   smartphone   \n",
       "\n",
       "   cpe_manufacturer_name  cpe_model_os_type         price region_cnt city_cnt  \\\n",
       "0     BQ Devices Limited            Android   -999.000000          1        1   \n",
       "1                 Xiaomi            Android  12343.000000          1        3   \n",
       "2                  Apple                iOS  16657.000000          1        1   \n",
       "3                  Apple                iOS  38037.000000          2        2   \n",
       "4                  Apple                iOS  55809.003906          2        6   \n",
       "\n",
       "   url_host_cnt  \n",
       "0            83  \n",
       "1            15  \n",
       "2            91  \n",
       "3            35  \n",
       "4           174  \n",
       "\n",
       "[5 rows x 23 columns]"
      ]
     },
     "execution_count": 126,
     "metadata": {},
     "output_type": "execute_result"
    }
   ],
   "source": [
    "df_final.head()"
   ]
  },
  {
   "cell_type": "code",
   "execution_count": 127,
   "id": "388c8136",
   "metadata": {
    "pycharm": {
     "name": "#%%\n"
    }
   },
   "outputs": [
    {
     "data": {
      "text/plain": [
       "(415317, 23)"
      ]
     },
     "execution_count": 127,
     "metadata": {},
     "output_type": "execute_result"
    }
   ],
   "source": [
    "df_final.shape"
   ]
  },
  {
   "cell_type": "code",
   "execution_count": 128,
   "id": "07df3f09",
   "metadata": {
    "pycharm": {
     "name": "#%%\n"
    }
   },
   "outputs": [
    {
     "data": {
      "text/html": [
       "<div>\n",
       "<style scoped>\n",
       "    .dataframe tbody tr th:only-of-type {\n",
       "        vertical-align: middle;\n",
       "    }\n",
       "\n",
       "    .dataframe tbody tr th {\n",
       "        vertical-align: top;\n",
       "    }\n",
       "\n",
       "    .dataframe thead th {\n",
       "        text-align: right;\n",
       "    }\n",
       "</style>\n",
       "<table border=\"1\" class=\"dataframe\">\n",
       "  <thead>\n",
       "    <tr style=\"text-align: right;\">\n",
       "      <th></th>\n",
       "      <th>user_id</th>\n",
       "      <th>city_cnt</th>\n",
       "    </tr>\n",
       "  </thead>\n",
       "  <tbody>\n",
       "  </tbody>\n",
       "</table>\n",
       "</div>"
      ],
      "text/plain": [
       "Empty DataFrame\n",
       "Columns: [user_id, city_cnt]\n",
       "Index: []"
      ]
     },
     "execution_count": 128,
     "metadata": {},
     "output_type": "execute_result"
    }
   ],
   "source": [
    "# проверим, что файлы не пересекались по user_id\n",
    "(df_final.groupby('user_id', as_index=False)\n",
    "         .agg({'city_cnt': 'count'})\n",
    "         .query('city_cnt > 1'))"
   ]
  },
  {
   "cell_type": "code",
   "execution_count": 85,
   "id": "30763c86",
   "metadata": {},
   "outputs": [
    {
     "data": {
      "text/plain": [
       "'../data/processed/agg_data.csv'"
      ]
     },
     "execution_count": 85,
     "metadata": {},
     "output_type": "execute_result"
    }
   ],
   "source": [
    "config['preprocessing']['agg_data_path']"
   ]
  },
  {
   "cell_type": "code",
   "execution_count": 141,
   "id": "9773116e",
   "metadata": {
    "pycharm": {
     "name": "#%%\n"
    }
   },
   "outputs": [],
   "source": [
    "# сохраняем итоговый аггрегированный датафрейм\n",
    "df_final.to_csv(config['preprocessing']['agg_data_path'], index=False)"
   ]
  },
  {
   "cell_type": "code",
   "execution_count": 131,
   "id": "de6e87e0",
   "metadata": {},
   "outputs": [],
   "source": [
    "# функция для сохранения уникальных значений в наших данных\n",
    "# для дальнейшего их отображения во frontend части\n",
    "def save_unique_train_data(data: pd.DataFrame, \n",
    "                           columns_save_unique: list,\n",
    "                           columns_save_min_max: list,\n",
    "                           unique_values_path: str) -> None:\n",
    "    \"\"\"\n",
    "    Сохранение словаря с признаками и уникальными значениями\n",
    "    :param data: датасет\n",
    "    :param columns_save_unique: признаки, для которых нужно сохранить уникальные значения\n",
    "    :param columns_save_min_max: признаки, для которых нужно сохранить только мин и макс\n",
    "    :param unique_values_path: путь до файла со словарем\n",
    "    :return: None\n",
    "    \"\"\"\n",
    "    unique_df = data[columns_save_unique]\n",
    "    min_max_df = data[columns_save_min_max]\n",
    "\n",
    "    # создаем словарь с уникальными значениями для вывода в UI\n",
    "    dict_unique = {\n",
    "        key: unique_df[key].unique().tolist()\n",
    "        for key in unique_df.columns\n",
    "    }\n",
    "\n",
    "    # создаем словарь со значениями min, max\n",
    "    dict_min_max = {\n",
    "        key: [\n",
    "            math.floor(min_max_df[key].min())\n",
    "            if min_max_df[key].min() > 0 else 0,\n",
    "            math.ceil(min_max_df[key].max())\n",
    "        ]\n",
    "        for key in min_max_df.columns\n",
    "    }\n",
    "\n",
    "    # объединяем словари\n",
    "    dict_unique.update(dict_min_max)\n",
    "\n",
    "    with open(unique_values_path, \"w\") as file:\n",
    "        json.dump(dict_unique, file)"
   ]
  },
  {
   "cell_type": "code",
   "execution_count": 144,
   "id": "305ccfad",
   "metadata": {},
   "outputs": [],
   "source": [
    "# сохраним уникальные значения\n",
    "save_unique_train_data(\n",
    "    data=df_final,\n",
    "    columns_save_unique=preprocessing['columns_save_unique'],\n",
    "    columns_save_min_max=preprocessing['columns_save_min_max'],\n",
    "    unique_values_path=preprocessing['unique_values_path'])"
   ]
  }
 ],
 "metadata": {
  "kernelspec": {
   "display_name": "Python 3 (ipykernel)",
   "language": "python",
   "name": "python3"
  },
  "language_info": {
   "codemirror_mode": {
    "name": "ipython",
    "version": 3
   },
   "file_extension": ".py",
   "mimetype": "text/x-python",
   "name": "python",
   "nbconvert_exporter": "python",
   "pygments_lexer": "ipython3",
   "version": "3.9.10"
  },
  "toc": {
   "base_numbering": 1,
   "nav_menu": {},
   "number_sections": true,
   "sideBar": true,
   "skip_h1_title": false,
   "title_cell": "Table of Contents",
   "title_sidebar": "Contents",
   "toc_cell": false,
   "toc_position": {
    "height": "calc(100% - 180px)",
    "left": "10px",
    "top": "150px",
    "width": "261px"
   },
   "toc_section_display": true,
   "toc_window_display": true
  }
 },
 "nbformat": 4,
 "nbformat_minor": 5
}
